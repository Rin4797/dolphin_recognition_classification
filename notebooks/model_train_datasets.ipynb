{
  "cells": [
    {
      "cell_type": "code",
      "execution_count": 1,
      "id": "fcf3ee13",
      "metadata": {
        "id": "fcf3ee13"
      },
      "outputs": [],
      "source": [
        "import numpy as np\n",
        "import torch\n",
        "from torch import nn\n",
        "import torch.nn.functional as F\n",
        "from torchvision import datasets, transforms, models\n",
        "from torch.utils.data import Subset\n",
        "import matplotlib.pyplot as plt\n",
        "from tqdm.auto import tqdm, trange\n",
        "from collections import defaultdict\n",
        "import seaborn as sns\n",
        "import torch.optim as optim\n",
        "import torchvision\n",
        "\n",
        "from torch.utils.data import DataLoader"
      ]
    },
    {
      "cell_type": "code",
      "source": [
        "!unzip dolphin_postprocces_dataset_0_45.zip"
      ],
      "metadata": {
        "colab": {
          "base_uri": "https://localhost:8080/"
        },
        "id": "i166zoGrOflr",
        "outputId": "a1850b7a-2301-49c5-edf0-81174329ef03"
      },
      "id": "i166zoGrOflr",
      "execution_count": null,
      "outputs": [
        {
          "output_type": "stream",
          "name": "stdout",
          "text": [
            "Archive:  dolphin_postprocces_dataset_0_45.zip\n",
            "  inflating: dolphin_postprocces_dataset/test/0/1899_DSC_3672.JPG  \n",
            "  inflating: dolphin_postprocces_dataset/test/0/1123_DSC_1495.JPG  \n",
            "  inflating: dolphin_postprocces_dataset/test/0/1619_DSC_0488.JPG  \n",
            "  inflating: dolphin_postprocces_dataset/test/0/2442_DSC_3697.JPG  \n",
            "  inflating: dolphin_postprocces_dataset/test/0/1567_DSC_3611.JPG  \n",
            "  inflating: dolphin_postprocces_dataset/test/0/3480_DSC_3653.JPG  \n",
            "  inflating: dolphin_postprocces_dataset/test/0/1421_DSC_3767.JPG  \n",
            "replace dolphin_postprocces_dataset/test/0/14_DSC_0566.JPG? [y]es, [n]o, [A]ll, [N]one, [r]ename: "
          ]
        }
      ]
    },
    {
      "cell_type": "code",
      "source": [
        "!unzip dolphin_postprocces_dataset_full_0_45.zip"
      ],
      "metadata": {
        "id": "MDQDkby-OzeA"
      },
      "id": "MDQDkby-OzeA",
      "execution_count": null,
      "outputs": []
    },
    {
      "cell_type": "code",
      "source": [
        "!cp /content/dolphin_postprocces_dataset/val/1/108_DSC_1613.JPG /content/dolphin_postprocces_dataset/test/1/108_DSC_1613.JPG"
      ],
      "metadata": {
        "id": "RapujUOaQivU"
      },
      "id": "RapujUOaQivU",
      "execution_count": 8,
      "outputs": []
    },
    {
      "cell_type": "code",
      "source": [
        "import os\n",
        "\n",
        "print('Train dataset:', len(os.listdir('dolphin_postprocces_dataset/train/1')) +\n",
        "      len(os.listdir('dolphin_postprocces_dataset/train/0')))\n",
        "print('Train dolphins:', len(os.listdir('dolphin_postprocces_dataset/train/1')))\n",
        "print('Train not dolphins:', len(os.listdir('dolphin_postprocces_dataset/train/0')))\n",
        "print()\n",
        "print('Val dataset:', len(os.listdir('dolphin_postprocces_dataset/val/1')) +\n",
        "      len(os.listdir('dolphin_postprocces_dataset/val/0')))\n",
        "print('Val dolphins:', len(os.listdir('dolphin_postprocces_dataset/val/1')))\n",
        "print('Val not dolphins:', len(os.listdir('dolphin_postprocces_dataset/val/0')))\n",
        "print()\n",
        "print('Test dataset:', len(os.listdir('dolphin_postprocces_dataset/test/1')) +\n",
        "      len(os.listdir('dolphin_postprocces_dataset/test/0')))\n",
        "print('Test dolphins:', len(os.listdir('dolphin_postprocces_dataset/test/1')))\n",
        "print('Test not dolphins:', len(os.listdir('dolphin_postprocces_dataset/test/0')))"
      ],
      "metadata": {
        "colab": {
          "base_uri": "https://localhost:8080/"
        },
        "id": "wGFMkL4ESdk6",
        "outputId": "ac2d8bdb-6ef7-424f-d51f-538df03ee9ee"
      },
      "id": "wGFMkL4ESdk6",
      "execution_count": 9,
      "outputs": [
        {
          "output_type": "stream",
          "name": "stdout",
          "text": [
            "Train dataset: 228\n",
            "Train dolphins: 220\n",
            "Train not dolphins: 8\n",
            "\n",
            "Val dataset: 80\n",
            "Val dolphins: 77\n",
            "Val not dolphins: 3\n",
            "\n",
            "Test dataset: 178\n",
            "Test dolphins: 1\n",
            "Test not dolphins: 177\n"
          ]
        }
      ]
    },
    {
      "cell_type": "code",
      "execution_count": 10,
      "id": "8aa36172",
      "metadata": {
        "id": "8aa36172"
      },
      "outputs": [],
      "source": [
        "import requests\n",
        "import zipfile\n",
        "from pathlib import Path\n",
        "\n",
        "# Setup path to data folder\n",
        "data_path = Path(\"./\")\n",
        "image_path = data_path / \"dolphin_postprocces_dataset\""
      ]
    },
    {
      "cell_type": "code",
      "execution_count": 11,
      "id": "babc31d7",
      "metadata": {
        "id": "babc31d7"
      },
      "outputs": [],
      "source": [
        "data_transform_resize = transforms.Compose([\n",
        "    transforms.Resize(size=(224, 224)),\n",
        "    transforms.ToTensor()\n",
        "])\n",
        "\n",
        "class ResNetPad():\n",
        "    def __call__(self, image, shape=(224, 224)):\n",
        "        y_, x_ = shape\n",
        "        y, x = image.size[1], image.size[0]\n",
        "        y_pad = (y_-y)\n",
        "        x_pad = (x_-x)\n",
        "        return np.pad(image, ((y_pad//2, y_pad//2 + y_pad%2),\n",
        "                         (x_pad//2, x_pad//2 + x_pad%2),\n",
        "                         (0, 0)),\n",
        "                      mode = 'constant')\n",
        "\n",
        "data_transform_padding = transforms.Compose([\n",
        "    ResNetPad(),\n",
        "    transforms.ToTensor()\n",
        "])"
      ]
    },
    {
      "cell_type": "code",
      "execution_count": 12,
      "id": "d7a4ddd6",
      "metadata": {
        "id": "d7a4ddd6",
        "colab": {
          "base_uri": "https://localhost:8080/"
        },
        "outputId": "92a32b96-f4b1-493c-ab58-3d431971a8c6"
      },
      "outputs": [
        {
          "output_type": "stream",
          "name": "stdout",
          "text": [
            "Data:\n",
            "Dataset ImageFolder\n",
            "    Number of datapoints: 228\n",
            "    Root location: dolphin_postprocces_dataset/train\n",
            "    StandardTransform\n",
            "Transform: Compose(\n",
            "               Resize(size=(224, 224), interpolation=bilinear, max_size=None, antialias=True)\n",
            "               ToTensor()\n",
            "           )\n",
            "Data:\n",
            "Dataset ImageFolder\n",
            "    Number of datapoints: 228\n",
            "    Root location: dolphin_postprocces_dataset/train\n",
            "    StandardTransform\n",
            "Transform: Compose(\n",
            "               <__main__.ResNetPad object at 0x78504c4872b0>\n",
            "               ToTensor()\n",
            "           )\n",
            "Data:\n",
            "Dataset ImageFolder\n",
            "    Number of datapoints: 80\n",
            "    Root location: dolphin_postprocces_dataset/val\n",
            "    StandardTransform\n",
            "Transform: Compose(\n",
            "               Resize(size=(224, 224), interpolation=bilinear, max_size=None, antialias=True)\n",
            "               ToTensor()\n",
            "           )\n",
            "Data:\n",
            "Dataset ImageFolder\n",
            "    Number of datapoints: 80\n",
            "    Root location: dolphin_postprocces_dataset/val\n",
            "    StandardTransform\n",
            "Transform: Compose(\n",
            "               <__main__.ResNetPad object at 0x78504c4872b0>\n",
            "               ToTensor()\n",
            "           )\n",
            "Data:\n",
            "Dataset ImageFolder\n",
            "    Number of datapoints: 178\n",
            "    Root location: dolphin_postprocces_dataset/test\n",
            "    StandardTransform\n",
            "Transform: Compose(\n",
            "               Resize(size=(224, 224), interpolation=bilinear, max_size=None, antialias=True)\n",
            "               ToTensor()\n",
            "           )\n",
            "Data:\n",
            "Dataset ImageFolder\n",
            "    Number of datapoints: 178\n",
            "    Root location: dolphin_postprocces_dataset/test\n",
            "    StandardTransform\n",
            "Transform: Compose(\n",
            "               <__main__.ResNetPad object at 0x78504c4872b0>\n",
            "               ToTensor()\n",
            "           )\n"
          ]
        }
      ],
      "source": [
        "from torchvision import datasets\n",
        "\n",
        "train_data_resize = datasets.ImageFolder(root=image_path / \"train\",\n",
        "                                  transform=data_transform_resize)\n",
        "\n",
        "train_data_padding = datasets.ImageFolder(root=image_path / \"train\",\n",
        "                                  transform=data_transform_padding)\n",
        "\n",
        "val_data_resize = datasets.ImageFolder(root=image_path / \"val\",\n",
        "                                  transform=data_transform_resize)\n",
        "\n",
        "val_data_padding = datasets.ImageFolder(root=image_path / \"val\",\n",
        "                                  transform=data_transform_padding)\n",
        "\n",
        "test_data_resize = datasets.ImageFolder(root=image_path / \"test\",\n",
        "                                  transform=data_transform_resize)\n",
        "\n",
        "test_data_padding = datasets.ImageFolder(root=image_path / \"test\",\n",
        "                                  transform=data_transform_padding)\n",
        "\n",
        "print(f\"Data:\\n{train_data_resize}\")\n",
        "print(f\"Data:\\n{train_data_padding}\")\n",
        "\n",
        "print(f\"Data:\\n{val_data_resize}\")\n",
        "print(f\"Data:\\n{val_data_padding}\")\n",
        "\n",
        "print(f\"Data:\\n{test_data_resize}\")\n",
        "print(f\"Data:\\n{test_data_padding}\")"
      ]
    },
    {
      "cell_type": "code",
      "source": [
        "data_resize = datasets.ImageFolder(root=data_path / \"dolphin_postprocces_dataset_full\",\n",
        "                                  transform=data_transform_resize)\n",
        "\n",
        "data_padding = datasets.ImageFolder(root=data_path / \"dolphin_postprocces_dataset_full\",\n",
        "                                  transform=data_transform_padding)"
      ],
      "metadata": {
        "id": "KqpPUNebadok"
      },
      "id": "KqpPUNebadok",
      "execution_count": 13,
      "outputs": []
    },
    {
      "cell_type": "code",
      "execution_count": 14,
      "id": "66c5cfb8",
      "metadata": {
        "id": "66c5cfb8"
      },
      "outputs": [],
      "source": [
        "from torch.utils.data import DataLoader\n",
        "\n",
        "train_dataloader_resize = DataLoader(train_data_resize, batch_size=32, shuffle=True)\n",
        "test_dataloader_resize = DataLoader(test_data_resize, batch_size=1, shuffle=False)\n",
        "val_dataloader_resize = DataLoader(val_data_resize, batch_size=1, shuffle=True)\n",
        "\n",
        "train_dataloader_padding = DataLoader(train_data_padding, batch_size=32, shuffle=True)\n",
        "test_dataloader_padding = DataLoader(test_data_padding, batch_size=1, shuffle=False)\n",
        "val_dataloader_padding = DataLoader(val_data_padding, batch_size=1, shuffle=True)"
      ]
    },
    {
      "cell_type": "code",
      "source": [
        "dataloader_resize = DataLoader(data_resize, batch_size=1, shuffle=False)\n",
        "dataloader_padding = DataLoader(data_padding, batch_size=1, shuffle=False)"
      ],
      "metadata": {
        "id": "E6bLu4IAcnrs"
      },
      "id": "E6bLu4IAcnrs",
      "execution_count": 15,
      "outputs": []
    },
    {
      "cell_type": "code",
      "execution_count": 16,
      "id": "1c134ea1",
      "metadata": {
        "colab": {
          "base_uri": "https://localhost:8080/"
        },
        "id": "1c134ea1",
        "outputId": "c33fd13f-352f-41c2-aeb5-8e62bcee63fd"
      },
      "outputs": [
        {
          "output_type": "stream",
          "name": "stdout",
          "text": [
            "cuda:0\n"
          ]
        }
      ],
      "source": [
        "device = torch.device('cuda:0' if torch.cuda.is_available() else 'cpu')\n",
        "print(device)"
      ]
    },
    {
      "cell_type": "markdown",
      "id": "3266e2a4",
      "metadata": {
        "id": "3266e2a4"
      },
      "source": [
        "# Модель"
      ]
    },
    {
      "cell_type": "code",
      "execution_count": 22,
      "id": "e90ad65c",
      "metadata": {
        "id": "e90ad65c"
      },
      "outputs": [],
      "source": [
        "resnet50 = models.resnet50(weights=models.ResNet50_Weights)"
      ]
    },
    {
      "cell_type": "code",
      "execution_count": 23,
      "id": "41818528",
      "metadata": {
        "colab": {
          "base_uri": "https://localhost:8080/"
        },
        "id": "41818528",
        "outputId": "4d99ebba-5555-4846-a03f-660ca97c4533"
      },
      "outputs": [
        {
          "output_type": "execute_result",
          "data": {
            "text/plain": [
              "ResNet(\n",
              "  (conv1): Conv2d(3, 64, kernel_size=(7, 7), stride=(2, 2), padding=(3, 3), bias=False)\n",
              "  (bn1): BatchNorm2d(64, eps=1e-05, momentum=0.1, affine=True, track_running_stats=True)\n",
              "  (relu): ReLU(inplace=True)\n",
              "  (maxpool): MaxPool2d(kernel_size=3, stride=2, padding=1, dilation=1, ceil_mode=False)\n",
              "  (layer1): Sequential(\n",
              "    (0): Bottleneck(\n",
              "      (conv1): Conv2d(64, 64, kernel_size=(1, 1), stride=(1, 1), bias=False)\n",
              "      (bn1): BatchNorm2d(64, eps=1e-05, momentum=0.1, affine=True, track_running_stats=True)\n",
              "      (conv2): Conv2d(64, 64, kernel_size=(3, 3), stride=(1, 1), padding=(1, 1), bias=False)\n",
              "      (bn2): BatchNorm2d(64, eps=1e-05, momentum=0.1, affine=True, track_running_stats=True)\n",
              "      (conv3): Conv2d(64, 256, kernel_size=(1, 1), stride=(1, 1), bias=False)\n",
              "      (bn3): BatchNorm2d(256, eps=1e-05, momentum=0.1, affine=True, track_running_stats=True)\n",
              "      (relu): ReLU(inplace=True)\n",
              "      (downsample): Sequential(\n",
              "        (0): Conv2d(64, 256, kernel_size=(1, 1), stride=(1, 1), bias=False)\n",
              "        (1): BatchNorm2d(256, eps=1e-05, momentum=0.1, affine=True, track_running_stats=True)\n",
              "      )\n",
              "    )\n",
              "    (1): Bottleneck(\n",
              "      (conv1): Conv2d(256, 64, kernel_size=(1, 1), stride=(1, 1), bias=False)\n",
              "      (bn1): BatchNorm2d(64, eps=1e-05, momentum=0.1, affine=True, track_running_stats=True)\n",
              "      (conv2): Conv2d(64, 64, kernel_size=(3, 3), stride=(1, 1), padding=(1, 1), bias=False)\n",
              "      (bn2): BatchNorm2d(64, eps=1e-05, momentum=0.1, affine=True, track_running_stats=True)\n",
              "      (conv3): Conv2d(64, 256, kernel_size=(1, 1), stride=(1, 1), bias=False)\n",
              "      (bn3): BatchNorm2d(256, eps=1e-05, momentum=0.1, affine=True, track_running_stats=True)\n",
              "      (relu): ReLU(inplace=True)\n",
              "    )\n",
              "    (2): Bottleneck(\n",
              "      (conv1): Conv2d(256, 64, kernel_size=(1, 1), stride=(1, 1), bias=False)\n",
              "      (bn1): BatchNorm2d(64, eps=1e-05, momentum=0.1, affine=True, track_running_stats=True)\n",
              "      (conv2): Conv2d(64, 64, kernel_size=(3, 3), stride=(1, 1), padding=(1, 1), bias=False)\n",
              "      (bn2): BatchNorm2d(64, eps=1e-05, momentum=0.1, affine=True, track_running_stats=True)\n",
              "      (conv3): Conv2d(64, 256, kernel_size=(1, 1), stride=(1, 1), bias=False)\n",
              "      (bn3): BatchNorm2d(256, eps=1e-05, momentum=0.1, affine=True, track_running_stats=True)\n",
              "      (relu): ReLU(inplace=True)\n",
              "    )\n",
              "  )\n",
              "  (layer2): Sequential(\n",
              "    (0): Bottleneck(\n",
              "      (conv1): Conv2d(256, 128, kernel_size=(1, 1), stride=(1, 1), bias=False)\n",
              "      (bn1): BatchNorm2d(128, eps=1e-05, momentum=0.1, affine=True, track_running_stats=True)\n",
              "      (conv2): Conv2d(128, 128, kernel_size=(3, 3), stride=(2, 2), padding=(1, 1), bias=False)\n",
              "      (bn2): BatchNorm2d(128, eps=1e-05, momentum=0.1, affine=True, track_running_stats=True)\n",
              "      (conv3): Conv2d(128, 512, kernel_size=(1, 1), stride=(1, 1), bias=False)\n",
              "      (bn3): BatchNorm2d(512, eps=1e-05, momentum=0.1, affine=True, track_running_stats=True)\n",
              "      (relu): ReLU(inplace=True)\n",
              "      (downsample): Sequential(\n",
              "        (0): Conv2d(256, 512, kernel_size=(1, 1), stride=(2, 2), bias=False)\n",
              "        (1): BatchNorm2d(512, eps=1e-05, momentum=0.1, affine=True, track_running_stats=True)\n",
              "      )\n",
              "    )\n",
              "    (1): Bottleneck(\n",
              "      (conv1): Conv2d(512, 128, kernel_size=(1, 1), stride=(1, 1), bias=False)\n",
              "      (bn1): BatchNorm2d(128, eps=1e-05, momentum=0.1, affine=True, track_running_stats=True)\n",
              "      (conv2): Conv2d(128, 128, kernel_size=(3, 3), stride=(1, 1), padding=(1, 1), bias=False)\n",
              "      (bn2): BatchNorm2d(128, eps=1e-05, momentum=0.1, affine=True, track_running_stats=True)\n",
              "      (conv3): Conv2d(128, 512, kernel_size=(1, 1), stride=(1, 1), bias=False)\n",
              "      (bn3): BatchNorm2d(512, eps=1e-05, momentum=0.1, affine=True, track_running_stats=True)\n",
              "      (relu): ReLU(inplace=True)\n",
              "    )\n",
              "    (2): Bottleneck(\n",
              "      (conv1): Conv2d(512, 128, kernel_size=(1, 1), stride=(1, 1), bias=False)\n",
              "      (bn1): BatchNorm2d(128, eps=1e-05, momentum=0.1, affine=True, track_running_stats=True)\n",
              "      (conv2): Conv2d(128, 128, kernel_size=(3, 3), stride=(1, 1), padding=(1, 1), bias=False)\n",
              "      (bn2): BatchNorm2d(128, eps=1e-05, momentum=0.1, affine=True, track_running_stats=True)\n",
              "      (conv3): Conv2d(128, 512, kernel_size=(1, 1), stride=(1, 1), bias=False)\n",
              "      (bn3): BatchNorm2d(512, eps=1e-05, momentum=0.1, affine=True, track_running_stats=True)\n",
              "      (relu): ReLU(inplace=True)\n",
              "    )\n",
              "    (3): Bottleneck(\n",
              "      (conv1): Conv2d(512, 128, kernel_size=(1, 1), stride=(1, 1), bias=False)\n",
              "      (bn1): BatchNorm2d(128, eps=1e-05, momentum=0.1, affine=True, track_running_stats=True)\n",
              "      (conv2): Conv2d(128, 128, kernel_size=(3, 3), stride=(1, 1), padding=(1, 1), bias=False)\n",
              "      (bn2): BatchNorm2d(128, eps=1e-05, momentum=0.1, affine=True, track_running_stats=True)\n",
              "      (conv3): Conv2d(128, 512, kernel_size=(1, 1), stride=(1, 1), bias=False)\n",
              "      (bn3): BatchNorm2d(512, eps=1e-05, momentum=0.1, affine=True, track_running_stats=True)\n",
              "      (relu): ReLU(inplace=True)\n",
              "    )\n",
              "  )\n",
              "  (layer3): Sequential(\n",
              "    (0): Bottleneck(\n",
              "      (conv1): Conv2d(512, 256, kernel_size=(1, 1), stride=(1, 1), bias=False)\n",
              "      (bn1): BatchNorm2d(256, eps=1e-05, momentum=0.1, affine=True, track_running_stats=True)\n",
              "      (conv2): Conv2d(256, 256, kernel_size=(3, 3), stride=(2, 2), padding=(1, 1), bias=False)\n",
              "      (bn2): BatchNorm2d(256, eps=1e-05, momentum=0.1, affine=True, track_running_stats=True)\n",
              "      (conv3): Conv2d(256, 1024, kernel_size=(1, 1), stride=(1, 1), bias=False)\n",
              "      (bn3): BatchNorm2d(1024, eps=1e-05, momentum=0.1, affine=True, track_running_stats=True)\n",
              "      (relu): ReLU(inplace=True)\n",
              "      (downsample): Sequential(\n",
              "        (0): Conv2d(512, 1024, kernel_size=(1, 1), stride=(2, 2), bias=False)\n",
              "        (1): BatchNorm2d(1024, eps=1e-05, momentum=0.1, affine=True, track_running_stats=True)\n",
              "      )\n",
              "    )\n",
              "    (1): Bottleneck(\n",
              "      (conv1): Conv2d(1024, 256, kernel_size=(1, 1), stride=(1, 1), bias=False)\n",
              "      (bn1): BatchNorm2d(256, eps=1e-05, momentum=0.1, affine=True, track_running_stats=True)\n",
              "      (conv2): Conv2d(256, 256, kernel_size=(3, 3), stride=(1, 1), padding=(1, 1), bias=False)\n",
              "      (bn2): BatchNorm2d(256, eps=1e-05, momentum=0.1, affine=True, track_running_stats=True)\n",
              "      (conv3): Conv2d(256, 1024, kernel_size=(1, 1), stride=(1, 1), bias=False)\n",
              "      (bn3): BatchNorm2d(1024, eps=1e-05, momentum=0.1, affine=True, track_running_stats=True)\n",
              "      (relu): ReLU(inplace=True)\n",
              "    )\n",
              "    (2): Bottleneck(\n",
              "      (conv1): Conv2d(1024, 256, kernel_size=(1, 1), stride=(1, 1), bias=False)\n",
              "      (bn1): BatchNorm2d(256, eps=1e-05, momentum=0.1, affine=True, track_running_stats=True)\n",
              "      (conv2): Conv2d(256, 256, kernel_size=(3, 3), stride=(1, 1), padding=(1, 1), bias=False)\n",
              "      (bn2): BatchNorm2d(256, eps=1e-05, momentum=0.1, affine=True, track_running_stats=True)\n",
              "      (conv3): Conv2d(256, 1024, kernel_size=(1, 1), stride=(1, 1), bias=False)\n",
              "      (bn3): BatchNorm2d(1024, eps=1e-05, momentum=0.1, affine=True, track_running_stats=True)\n",
              "      (relu): ReLU(inplace=True)\n",
              "    )\n",
              "    (3): Bottleneck(\n",
              "      (conv1): Conv2d(1024, 256, kernel_size=(1, 1), stride=(1, 1), bias=False)\n",
              "      (bn1): BatchNorm2d(256, eps=1e-05, momentum=0.1, affine=True, track_running_stats=True)\n",
              "      (conv2): Conv2d(256, 256, kernel_size=(3, 3), stride=(1, 1), padding=(1, 1), bias=False)\n",
              "      (bn2): BatchNorm2d(256, eps=1e-05, momentum=0.1, affine=True, track_running_stats=True)\n",
              "      (conv3): Conv2d(256, 1024, kernel_size=(1, 1), stride=(1, 1), bias=False)\n",
              "      (bn3): BatchNorm2d(1024, eps=1e-05, momentum=0.1, affine=True, track_running_stats=True)\n",
              "      (relu): ReLU(inplace=True)\n",
              "    )\n",
              "    (4): Bottleneck(\n",
              "      (conv1): Conv2d(1024, 256, kernel_size=(1, 1), stride=(1, 1), bias=False)\n",
              "      (bn1): BatchNorm2d(256, eps=1e-05, momentum=0.1, affine=True, track_running_stats=True)\n",
              "      (conv2): Conv2d(256, 256, kernel_size=(3, 3), stride=(1, 1), padding=(1, 1), bias=False)\n",
              "      (bn2): BatchNorm2d(256, eps=1e-05, momentum=0.1, affine=True, track_running_stats=True)\n",
              "      (conv3): Conv2d(256, 1024, kernel_size=(1, 1), stride=(1, 1), bias=False)\n",
              "      (bn3): BatchNorm2d(1024, eps=1e-05, momentum=0.1, affine=True, track_running_stats=True)\n",
              "      (relu): ReLU(inplace=True)\n",
              "    )\n",
              "    (5): Bottleneck(\n",
              "      (conv1): Conv2d(1024, 256, kernel_size=(1, 1), stride=(1, 1), bias=False)\n",
              "      (bn1): BatchNorm2d(256, eps=1e-05, momentum=0.1, affine=True, track_running_stats=True)\n",
              "      (conv2): Conv2d(256, 256, kernel_size=(3, 3), stride=(1, 1), padding=(1, 1), bias=False)\n",
              "      (bn2): BatchNorm2d(256, eps=1e-05, momentum=0.1, affine=True, track_running_stats=True)\n",
              "      (conv3): Conv2d(256, 1024, kernel_size=(1, 1), stride=(1, 1), bias=False)\n",
              "      (bn3): BatchNorm2d(1024, eps=1e-05, momentum=0.1, affine=True, track_running_stats=True)\n",
              "      (relu): ReLU(inplace=True)\n",
              "    )\n",
              "  )\n",
              "  (layer4): Sequential(\n",
              "    (0): Bottleneck(\n",
              "      (conv1): Conv2d(1024, 512, kernel_size=(1, 1), stride=(1, 1), bias=False)\n",
              "      (bn1): BatchNorm2d(512, eps=1e-05, momentum=0.1, affine=True, track_running_stats=True)\n",
              "      (conv2): Conv2d(512, 512, kernel_size=(3, 3), stride=(2, 2), padding=(1, 1), bias=False)\n",
              "      (bn2): BatchNorm2d(512, eps=1e-05, momentum=0.1, affine=True, track_running_stats=True)\n",
              "      (conv3): Conv2d(512, 2048, kernel_size=(1, 1), stride=(1, 1), bias=False)\n",
              "      (bn3): BatchNorm2d(2048, eps=1e-05, momentum=0.1, affine=True, track_running_stats=True)\n",
              "      (relu): ReLU(inplace=True)\n",
              "      (downsample): Sequential(\n",
              "        (0): Conv2d(1024, 2048, kernel_size=(1, 1), stride=(2, 2), bias=False)\n",
              "        (1): BatchNorm2d(2048, eps=1e-05, momentum=0.1, affine=True, track_running_stats=True)\n",
              "      )\n",
              "    )\n",
              "    (1): Bottleneck(\n",
              "      (conv1): Conv2d(2048, 512, kernel_size=(1, 1), stride=(1, 1), bias=False)\n",
              "      (bn1): BatchNorm2d(512, eps=1e-05, momentum=0.1, affine=True, track_running_stats=True)\n",
              "      (conv2): Conv2d(512, 512, kernel_size=(3, 3), stride=(1, 1), padding=(1, 1), bias=False)\n",
              "      (bn2): BatchNorm2d(512, eps=1e-05, momentum=0.1, affine=True, track_running_stats=True)\n",
              "      (conv3): Conv2d(512, 2048, kernel_size=(1, 1), stride=(1, 1), bias=False)\n",
              "      (bn3): BatchNorm2d(2048, eps=1e-05, momentum=0.1, affine=True, track_running_stats=True)\n",
              "      (relu): ReLU(inplace=True)\n",
              "    )\n",
              "    (2): Bottleneck(\n",
              "      (conv1): Conv2d(2048, 512, kernel_size=(1, 1), stride=(1, 1), bias=False)\n",
              "      (bn1): BatchNorm2d(512, eps=1e-05, momentum=0.1, affine=True, track_running_stats=True)\n",
              "      (conv2): Conv2d(512, 512, kernel_size=(3, 3), stride=(1, 1), padding=(1, 1), bias=False)\n",
              "      (bn2): BatchNorm2d(512, eps=1e-05, momentum=0.1, affine=True, track_running_stats=True)\n",
              "      (conv3): Conv2d(512, 2048, kernel_size=(1, 1), stride=(1, 1), bias=False)\n",
              "      (bn3): BatchNorm2d(2048, eps=1e-05, momentum=0.1, affine=True, track_running_stats=True)\n",
              "      (relu): ReLU(inplace=True)\n",
              "    )\n",
              "  )\n",
              "  (avgpool): AdaptiveAvgPool2d(output_size=(1, 1))\n",
              "  (fc): Linear(in_features=2048, out_features=1000, bias=True)\n",
              ")"
            ]
          },
          "metadata": {},
          "execution_count": 23
        }
      ],
      "source": [
        "resnet50.to(device)"
      ]
    },
    {
      "cell_type": "markdown",
      "id": "7dca44a0",
      "metadata": {
        "id": "7dca44a0"
      },
      "source": [
        "# Обучение"
      ]
    },
    {
      "cell_type": "markdown",
      "source": [
        "## Функции"
      ],
      "metadata": {
        "id": "AIqvZD-UO48j"
      },
      "id": "AIqvZD-UO48j"
    },
    {
      "cell_type": "code",
      "execution_count": 24,
      "id": "bfd3eaa2",
      "metadata": {
        "id": "bfd3eaa2"
      },
      "outputs": [],
      "source": [
        "def test(model, loader):\n",
        "    loss_log = []\n",
        "    acc_log = []\n",
        "    model.eval()\n",
        "\n",
        "    criterion = nn.CrossEntropyLoss()\n",
        "\n",
        "    for data, target in loader:\n",
        "\n",
        "        data = data.to(device)\n",
        "        target = target.to(device)\n",
        "\n",
        "        with torch.no_grad():\n",
        "            outputs = model(data)\n",
        "            loss = criterion(outputs, target)\n",
        "\n",
        "        loss_log.append(loss.item())\n",
        "\n",
        "        predicted = torch.argmax(outputs, dim=1)\n",
        "        acc = (predicted == target).sum() / data.shape[0]\n",
        "\n",
        "        acc_log.append(acc.item())\n",
        "\n",
        "    return np.mean(loss_log), np.mean(acc_log)\n",
        "\n",
        "def train_epoch(model, optimizer, train_loader):\n",
        "    loss_log = []\n",
        "    acc_log = []\n",
        "    model.train()\n",
        "\n",
        "    criterion = nn.CrossEntropyLoss()\n",
        "\n",
        "    for data, target in train_loader:\n",
        "\n",
        "        data = data.to(device)\n",
        "        target = target.to(device)\n",
        "\n",
        "        optimizer.zero_grad()\n",
        "\n",
        "        outputs = model(data)\n",
        "        loss = criterion(outputs, target)\n",
        "        loss.backward()\n",
        "        optimizer.step()\n",
        "\n",
        "        loss_log.append(loss.item())\n",
        "\n",
        "        predicted = torch.argmax(outputs, dim=1)\n",
        "        acc = (predicted == target).sum() / data.shape[0]\n",
        "\n",
        "        acc_log.append(acc.item())\n",
        "\n",
        "    return loss_log, acc_log\n",
        "\n",
        "def train(model, optimizer, n_epochs, train_loader, val_loader, scheduler=None):\n",
        "    train_loss_log, train_acc_log, val_loss_log, val_acc_log = [], [], [], []\n",
        "\n",
        "    for epoch in range(n_epochs):\n",
        "        train_loss, train_acc = train_epoch(model, optimizer, train_loader)\n",
        "        val_loss, val_acc = test(model, val_loader)\n",
        "\n",
        "        train_loss_log.extend(train_loss)\n",
        "        train_acc_log.extend(train_acc)\n",
        "\n",
        "        val_loss_log.append(val_loss)\n",
        "        val_acc_log.append(val_acc)\n",
        "\n",
        "        print(f\"Epoch {epoch}\")\n",
        "        print(f\" train loss: {np.mean(train_loss)}, train acc: {np.mean(train_acc)}\")\n",
        "        print(f\" val loss: {val_loss}, val acc: {val_acc}\\n\")\n",
        "\n",
        "        if scheduler is not None:\n",
        "            scheduler.step()\n",
        "\n",
        "    return train_loss_log, train_acc_log, val_loss_log, val_acc_log"
      ]
    },
    {
      "cell_type": "code",
      "source": [
        "def draw_model_plot(acc, val_acc, loss, val_loss):\n",
        "\n",
        "    epoch_range = range(len(acc))\n",
        "\n",
        "    plt.plot(epoch_range, acc, label='Training accuracy')\n",
        "    plt.plot(epoch_range, val_acc, label='Validation accuracy')\n",
        "    plt.title('Training and validation accuracy')\n",
        "    plt.xlabel('epoch')\n",
        "    plt.ylabel('accuracy')\n",
        "    plt.legend()\n",
        "\n",
        "    plt.figure()\n",
        "\n",
        "    plt.plot(epoch_range, loss, label='Training loss')\n",
        "    plt.plot(epoch_range, val_loss, label='Validation loss')\n",
        "    plt.title('Training and validation loss')\n",
        "    plt.xlabel('epoch')\n",
        "    plt.ylabel('loss')\n",
        "    plt.legend()\n",
        "\n",
        "    plt.show()"
      ],
      "metadata": {
        "id": "Rlkoz8DiOSuH"
      },
      "id": "Rlkoz8DiOSuH",
      "execution_count": 25,
      "outputs": []
    },
    {
      "cell_type": "code",
      "source": [
        "def make_preds(model, loader):\n",
        "    model.eval()\n",
        "    preds = []\n",
        "\n",
        "    for data, target in loader:\n",
        "\n",
        "        data = data.to(device)\n",
        "        target = target.to(device)\n",
        "\n",
        "        with torch.no_grad():\n",
        "            outputs = model(data)\n",
        "\n",
        "        predicted = torch.argmax(outputs, dim=1)\n",
        "        preds.append(predicted.item())\n",
        "\n",
        "    return np.array(preds)"
      ],
      "metadata": {
        "id": "kxCEOTVpZ2rs"
      },
      "id": "kxCEOTVpZ2rs",
      "execution_count": 26,
      "outputs": []
    },
    {
      "cell_type": "markdown",
      "id": "bbadd179",
      "metadata": {
        "id": "bbadd179"
      },
      "source": [
        "## ResNet50 + resize"
      ]
    },
    {
      "cell_type": "code",
      "execution_count": 27,
      "id": "15af5b1c",
      "metadata": {
        "colab": {
          "base_uri": "https://localhost:8080/"
        },
        "id": "15af5b1c",
        "outputId": "b5485701-36e4-42ef-de8d-fa2554ef676b"
      },
      "outputs": [
        {
          "output_type": "stream",
          "name": "stdout",
          "text": [
            "Epoch 0\n",
            " train loss: 2.3883979467791505, train acc: 0.71875\n",
            " val loss: 1.288979890942566, val acc: 0.9625\n",
            "\n",
            "Epoch 1\n",
            " train loss: 0.20319261762779206, train acc: 0.96484375\n",
            " val loss: 0.14453473930770996, val acc: 0.9625\n",
            "\n",
            "Epoch 2\n",
            " train loss: 0.10436461470089853, train acc: 0.96875\n",
            " val loss: 0.16376338743939414, val acc: 0.9625\n",
            "\n",
            "Epoch 3\n",
            " train loss: 0.10718638601247221, train acc: 0.96875\n",
            " val loss: 0.16812244533621196, val acc: 0.9625\n",
            "\n",
            "Epoch 4\n",
            " train loss: 0.08763944351812825, train acc: 0.96875\n",
            " val loss: 0.19819720459220774, val acc: 0.9625\n",
            "\n",
            "Epoch 5\n",
            " train loss: 0.09576460998505354, train acc: 0.96875\n",
            " val loss: 0.10634726695020902, val acc: 0.9625\n",
            "\n",
            "Epoch 6\n",
            " train loss: 0.0707833943888545, train acc: 0.97265625\n",
            " val loss: 0.224738091747259, val acc: 0.9625\n",
            "\n",
            "Epoch 7\n",
            " train loss: 0.09337878099177033, train acc: 0.953125\n",
            " val loss: 0.16164706483541522, val acc: 0.95\n",
            "\n",
            "Epoch 8\n",
            " train loss: 0.051985634258016944, train acc: 0.98046875\n",
            " val loss: 0.2577221014441761, val acc: 0.9375\n",
            "\n",
            "Epoch 9\n",
            " train loss: 0.07060223683947697, train acc: 0.96484375\n",
            " val loss: 0.2680052905434561, val acc: 0.9625\n",
            "\n",
            "Epoch 10\n",
            " train loss: 0.04931390209821984, train acc: 0.9765625\n",
            " val loss: 0.2454705586049073, val acc: 0.95\n",
            "\n",
            "Epoch 11\n",
            " train loss: 0.04466025924193673, train acc: 0.984375\n",
            " val loss: 0.22549886594198937, val acc: 0.95\n",
            "\n",
            "Epoch 12\n",
            " train loss: 0.06968854911974631, train acc: 0.98828125\n",
            " val loss: 0.239765065074792, val acc: 0.9625\n",
            "\n",
            "Epoch 13\n",
            " train loss: 0.0921005813870579, train acc: 0.9765625\n",
            " val loss: 0.19439027153748167, val acc: 0.9625\n",
            "\n",
            "Epoch 14\n",
            " train loss: 0.06843545398442075, train acc: 0.96484375\n",
            " val loss: 0.36855803149442207, val acc: 0.9625\n",
            "\n",
            "Epoch 15\n",
            " train loss: 0.05952100266586058, train acc: 0.9765625\n",
            " val loss: 0.2631841822596148, val acc: 0.9625\n",
            "\n",
            "Epoch 16\n",
            " train loss: 0.036375715339090675, train acc: 0.98828125\n",
            " val loss: 0.2723109353913685, val acc: 0.9375\n",
            "\n",
            "Epoch 17\n",
            " train loss: 0.03728000359842554, train acc: 0.98828125\n",
            " val loss: 0.35625920780679354, val acc: 0.95\n",
            "\n",
            "Epoch 18\n",
            " train loss: 0.08798535482492298, train acc: 0.9765625\n",
            " val loss: 0.4210523677578994, val acc: 0.95\n",
            "\n",
            "Epoch 19\n",
            " train loss: 0.12056767998728901, train acc: 0.96875\n",
            " val loss: 0.508741911383467, val acc: 0.925\n",
            "\n",
            "Epoch 20\n",
            " train loss: 0.09314776281826198, train acc: 0.97265625\n",
            " val loss: 0.3807110448874149, val acc: 0.95\n",
            "\n",
            "Epoch 21\n",
            " train loss: 0.060537470679264516, train acc: 0.9765625\n",
            " val loss: 0.2758455466527948, val acc: 0.9625\n",
            "\n",
            "Epoch 22\n",
            " train loss: 0.04833011596929282, train acc: 0.96875\n",
            " val loss: 0.2941155149153019, val acc: 0.95\n",
            "\n",
            "Epoch 23\n",
            " train loss: 0.05339595308760181, train acc: 0.9765625\n",
            " val loss: 0.6518644444372471, val acc: 0.95\n",
            "\n",
            "Epoch 24\n",
            " train loss: 0.053828394622541964, train acc: 0.9765625\n",
            " val loss: 0.40763497487414335, val acc: 0.9625\n",
            "\n",
            "Epoch 25\n",
            " train loss: 0.03937987032259116, train acc: 0.984375\n",
            " val loss: 0.48144281472553513, val acc: 0.9625\n",
            "\n",
            "Epoch 26\n",
            " train loss: 0.03458796200720826, train acc: 0.98828125\n",
            " val loss: 0.5771125988015837, val acc: 0.9625\n",
            "\n",
            "Epoch 27\n",
            " train loss: 0.030143079900881276, train acc: 0.98828125\n",
            " val loss: 0.6074730405655603, val acc: 0.9625\n",
            "\n",
            "Epoch 28\n",
            " train loss: 0.2944431444921065, train acc: 0.95703125\n",
            " val loss: 0.6539304940923132, val acc: 0.9625\n",
            "\n",
            "Epoch 29\n",
            " train loss: 0.11292197043076158, train acc: 0.9609375\n",
            " val loss: 0.48057472636081117, val acc: 0.925\n",
            "\n"
          ]
        }
      ],
      "source": [
        "optimizer = optim.AdamW(resnet50.parameters())\n",
        "train_loss_log, train_acc_log, val_loss_log, val_acc_log = train(resnet50, optimizer, 30,\n",
        "                                                                 train_dataloader_resize,\n",
        "                                                                 val_dataloader_resize)"
      ]
    },
    {
      "cell_type": "code",
      "execution_count": null,
      "id": "02bc7400",
      "metadata": {
        "colab": {
          "base_uri": "https://localhost:8080/"
        },
        "id": "02bc7400",
        "outputId": "aa9ab1ff-3f72-4d6c-992a-29752d70bdd6"
      },
      "outputs": [
        {
          "output_type": "stream",
          "name": "stdout",
          "text": [
            "270 30 30\n"
          ]
        }
      ],
      "source": [
        "epoch_num = 30\n",
        "batch_size = 32\n",
        "epoch_log_num = int(np.ceil(len(train_loss_log) / epoch_num))\n",
        "train_loss = [0 for i in range(epoch_num)]\n",
        "train_acc = [0 for i in range(epoch_num)]\n",
        "\n",
        "for i in range(epoch_num):\n",
        "    train_loss[i] = np.mean(train_loss_log[i * epoch_log_num: (i + 1) * epoch_log_num])\n",
        "    train_acc[i] = np.mean(train_acc_log[i * epoch_log_num: (i + 1) * epoch_log_num])\n",
        "\n",
        "print(len(train_loss_log), len(train_loss), len(train_acc))"
      ]
    },
    {
      "cell_type": "code",
      "source": [
        "draw_model_plot(train_acc, val_acc_log, train_loss, val_loss_log)"
      ],
      "metadata": {
        "colab": {
          "base_uri": "https://localhost:8080/",
          "height": 927
        },
        "id": "ANY6dTYyO4pC",
        "outputId": "57bd9985-96f1-4cac-9503-45828bbd69e8"
      },
      "id": "ANY6dTYyO4pC",
      "execution_count": null,
      "outputs": [
        {
          "output_type": "display_data",
          "data": {
            "text/plain": [
              "<Figure size 640x480 with 1 Axes>"
            ],
            "image/png": "[encoded data removed]"
          },
          "metadata": {}
        },
        {
          "output_type": "display_data",
          "data": {
            "text/plain": [
              "<Figure size 640x480 with 1 Axes>"
            ],
            "image/png": "[encoded data removed]"
          },
          "metadata": {}
        }
      ]
    },
    {
      "cell_type": "code",
      "source": [
        "resnet50 = models.resnet50(weights=models.ResNet50_Weights)\n",
        "resnet50.to(device)"
      ],
      "metadata": {
        "colab": {
          "base_uri": "https://localhost:8080/"
        },
        "id": "ktl68u3CJ4Ad",
        "outputId": "42847872-dbc2-4055-8467-dbf531344bd2"
      },
      "id": "ktl68u3CJ4Ad",
      "execution_count": null,
      "outputs": [
        {
          "output_type": "execute_result",
          "data": {
            "text/plain": [
              "ResNet(\n",
              "  (conv1): Conv2d(3, 64, kernel_size=(7, 7), stride=(2, 2), padding=(3, 3), bias=False)\n",
              "  (bn1): BatchNorm2d(64, eps=1e-05, momentum=0.1, affine=True, track_running_stats=True)\n",
              "  (relu): ReLU(inplace=True)\n",
              "  (maxpool): MaxPool2d(kernel_size=3, stride=2, padding=1, dilation=1, ceil_mode=False)\n",
              "  (layer1): Sequential(\n",
              "    (0): Bottleneck(\n",
              "      (conv1): Conv2d(64, 64, kernel_size=(1, 1), stride=(1, 1), bias=False)\n",
              "      (bn1): BatchNorm2d(64, eps=1e-05, momentum=0.1, affine=True, track_running_stats=True)\n",
              "      (conv2): Conv2d(64, 64, kernel_size=(3, 3), stride=(1, 1), padding=(1, 1), bias=False)\n",
              "      (bn2): BatchNorm2d(64, eps=1e-05, momentum=0.1, affine=True, track_running_stats=True)\n",
              "      (conv3): Conv2d(64, 256, kernel_size=(1, 1), stride=(1, 1), bias=False)\n",
              "      (bn3): BatchNorm2d(256, eps=1e-05, momentum=0.1, affine=True, track_running_stats=True)\n",
              "      (relu): ReLU(inplace=True)\n",
              "      (downsample): Sequential(\n",
              "        (0): Conv2d(64, 256, kernel_size=(1, 1), stride=(1, 1), bias=False)\n",
              "        (1): BatchNorm2d(256, eps=1e-05, momentum=0.1, affine=True, track_running_stats=True)\n",
              "      )\n",
              "    )\n",
              "    (1): Bottleneck(\n",
              "      (conv1): Conv2d(256, 64, kernel_size=(1, 1), stride=(1, 1), bias=False)\n",
              "      (bn1): BatchNorm2d(64, eps=1e-05, momentum=0.1, affine=True, track_running_stats=True)\n",
              "      (conv2): Conv2d(64, 64, kernel_size=(3, 3), stride=(1, 1), padding=(1, 1), bias=False)\n",
              "      (bn2): BatchNorm2d(64, eps=1e-05, momentum=0.1, affine=True, track_running_stats=True)\n",
              "      (conv3): Conv2d(64, 256, kernel_size=(1, 1), stride=(1, 1), bias=False)\n",
              "      (bn3): BatchNorm2d(256, eps=1e-05, momentum=0.1, affine=True, track_running_stats=True)\n",
              "      (relu): ReLU(inplace=True)\n",
              "    )\n",
              "    (2): Bottleneck(\n",
              "      (conv1): Conv2d(256, 64, kernel_size=(1, 1), stride=(1, 1), bias=False)\n",
              "      (bn1): BatchNorm2d(64, eps=1e-05, momentum=0.1, affine=True, track_running_stats=True)\n",
              "      (conv2): Conv2d(64, 64, kernel_size=(3, 3), stride=(1, 1), padding=(1, 1), bias=False)\n",
              "      (bn2): BatchNorm2d(64, eps=1e-05, momentum=0.1, affine=True, track_running_stats=True)\n",
              "      (conv3): Conv2d(64, 256, kernel_size=(1, 1), stride=(1, 1), bias=False)\n",
              "      (bn3): BatchNorm2d(256, eps=1e-05, momentum=0.1, affine=True, track_running_stats=True)\n",
              "      (relu): ReLU(inplace=True)\n",
              "    )\n",
              "  )\n",
              "  (layer2): Sequential(\n",
              "    (0): Bottleneck(\n",
              "      (conv1): Conv2d(256, 128, kernel_size=(1, 1), stride=(1, 1), bias=False)\n",
              "      (bn1): BatchNorm2d(128, eps=1e-05, momentum=0.1, affine=True, track_running_stats=True)\n",
              "      (conv2): Conv2d(128, 128, kernel_size=(3, 3), stride=(2, 2), padding=(1, 1), bias=False)\n",
              "      (bn2): BatchNorm2d(128, eps=1e-05, momentum=0.1, affine=True, track_running_stats=True)\n",
              "      (conv3): Conv2d(128, 512, kernel_size=(1, 1), stride=(1, 1), bias=False)\n",
              "      (bn3): BatchNorm2d(512, eps=1e-05, momentum=0.1, affine=True, track_running_stats=True)\n",
              "      (relu): ReLU(inplace=True)\n",
              "      (downsample): Sequential(\n",
              "        (0): Conv2d(256, 512, kernel_size=(1, 1), stride=(2, 2), bias=False)\n",
              "        (1): BatchNorm2d(512, eps=1e-05, momentum=0.1, affine=True, track_running_stats=True)\n",
              "      )\n",
              "    )\n",
              "    (1): Bottleneck(\n",
              "      (conv1): Conv2d(512, 128, kernel_size=(1, 1), stride=(1, 1), bias=False)\n",
              "      (bn1): BatchNorm2d(128, eps=1e-05, momentum=0.1, affine=True, track_running_stats=True)\n",
              "      (conv2): Conv2d(128, 128, kernel_size=(3, 3), stride=(1, 1), padding=(1, 1), bias=False)\n",
              "      (bn2): BatchNorm2d(128, eps=1e-05, momentum=0.1, affine=True, track_running_stats=True)\n",
              "      (conv3): Conv2d(128, 512, kernel_size=(1, 1), stride=(1, 1), bias=False)\n",
              "      (bn3): BatchNorm2d(512, eps=1e-05, momentum=0.1, affine=True, track_running_stats=True)\n",
              "      (relu): ReLU(inplace=True)\n",
              "    )\n",
              "    (2): Bottleneck(\n",
              "      (conv1): Conv2d(512, 128, kernel_size=(1, 1), stride=(1, 1), bias=False)\n",
              "      (bn1): BatchNorm2d(128, eps=1e-05, momentum=0.1, affine=True, track_running_stats=True)\n",
              "      (conv2): Conv2d(128, 128, kernel_size=(3, 3), stride=(1, 1), padding=(1, 1), bias=False)\n",
              "      (bn2): BatchNorm2d(128, eps=1e-05, momentum=0.1, affine=True, track_running_stats=True)\n",
              "      (conv3): Conv2d(128, 512, kernel_size=(1, 1), stride=(1, 1), bias=False)\n",
              "      (bn3): BatchNorm2d(512, eps=1e-05, momentum=0.1, affine=True, track_running_stats=True)\n",
              "      (relu): ReLU(inplace=True)\n",
              "    )\n",
              "    (3): Bottleneck(\n",
              "      (conv1): Conv2d(512, 128, kernel_size=(1, 1), stride=(1, 1), bias=False)\n",
              "      (bn1): BatchNorm2d(128, eps=1e-05, momentum=0.1, affine=True, track_running_stats=True)\n",
              "      (conv2): Conv2d(128, 128, kernel_size=(3, 3), stride=(1, 1), padding=(1, 1), bias=False)\n",
              "      (bn2): BatchNorm2d(128, eps=1e-05, momentum=0.1, affine=True, track_running_stats=True)\n",
              "      (conv3): Conv2d(128, 512, kernel_size=(1, 1), stride=(1, 1), bias=False)\n",
              "      (bn3): BatchNorm2d(512, eps=1e-05, momentum=0.1, affine=True, track_running_stats=True)\n",
              "      (relu): ReLU(inplace=True)\n",
              "    )\n",
              "  )\n",
              "  (layer3): Sequential(\n",
              "    (0): Bottleneck(\n",
              "      (conv1): Conv2d(512, 256, kernel_size=(1, 1), stride=(1, 1), bias=False)\n",
              "      (bn1): BatchNorm2d(256, eps=1e-05, momentum=0.1, affine=True, track_running_stats=True)\n",
              "      (conv2): Conv2d(256, 256, kernel_size=(3, 3), stride=(2, 2), padding=(1, 1), bias=False)\n",
              "      (bn2): BatchNorm2d(256, eps=1e-05, momentum=0.1, affine=True, track_running_stats=True)\n",
              "      (conv3): Conv2d(256, 1024, kernel_size=(1, 1), stride=(1, 1), bias=False)\n",
              "      (bn3): BatchNorm2d(1024, eps=1e-05, momentum=0.1, affine=True, track_running_stats=True)\n",
              "      (relu): ReLU(inplace=True)\n",
              "      (downsample): Sequential(\n",
              "        (0): Conv2d(512, 1024, kernel_size=(1, 1), stride=(2, 2), bias=False)\n",
              "        (1): BatchNorm2d(1024, eps=1e-05, momentum=0.1, affine=True, track_running_stats=True)\n",
              "      )\n",
              "    )\n",
              "    (1): Bottleneck(\n",
              "      (conv1): Conv2d(1024, 256, kernel_size=(1, 1), stride=(1, 1), bias=False)\n",
              "      (bn1): BatchNorm2d(256, eps=1e-05, momentum=0.1, affine=True, track_running_stats=True)\n",
              "      (conv2): Conv2d(256, 256, kernel_size=(3, 3), stride=(1, 1), padding=(1, 1), bias=False)\n",
              "      (bn2): BatchNorm2d(256, eps=1e-05, momentum=0.1, affine=True, track_running_stats=True)\n",
              "      (conv3): Conv2d(256, 1024, kernel_size=(1, 1), stride=(1, 1), bias=False)\n",
              "      (bn3): BatchNorm2d(1024, eps=1e-05, momentum=0.1, affine=True, track_running_stats=True)\n",
              "      (relu): ReLU(inplace=True)\n",
              "    )\n",
              "    (2): Bottleneck(\n",
              "      (conv1): Conv2d(1024, 256, kernel_size=(1, 1), stride=(1, 1), bias=False)\n",
              "      (bn1): BatchNorm2d(256, eps=1e-05, momentum=0.1, affine=True, track_running_stats=True)\n",
              "      (conv2): Conv2d(256, 256, kernel_size=(3, 3), stride=(1, 1), padding=(1, 1), bias=False)\n",
              "      (bn2): BatchNorm2d(256, eps=1e-05, momentum=0.1, affine=True, track_running_stats=True)\n",
              "      (conv3): Conv2d(256, 1024, kernel_size=(1, 1), stride=(1, 1), bias=False)\n",
              "      (bn3): BatchNorm2d(1024, eps=1e-05, momentum=0.1, affine=True, track_running_stats=True)\n",
              "      (relu): ReLU(inplace=True)\n",
              "    )\n",
              "    (3): Bottleneck(\n",
              "      (conv1): Conv2d(1024, 256, kernel_size=(1, 1), stride=(1, 1), bias=False)\n",
              "      (bn1): BatchNorm2d(256, eps=1e-05, momentum=0.1, affine=True, track_running_stats=True)\n",
              "      (conv2): Conv2d(256, 256, kernel_size=(3, 3), stride=(1, 1), padding=(1, 1), bias=False)\n",
              "      (bn2): BatchNorm2d(256, eps=1e-05, momentum=0.1, affine=True, track_running_stats=True)\n",
              "      (conv3): Conv2d(256, 1024, kernel_size=(1, 1), stride=(1, 1), bias=False)\n",
              "      (bn3): BatchNorm2d(1024, eps=1e-05, momentum=0.1, affine=True, track_running_stats=True)\n",
              "      (relu): ReLU(inplace=True)\n",
              "    )\n",
              "    (4): Bottleneck(\n",
              "      (conv1): Conv2d(1024, 256, kernel_size=(1, 1), stride=(1, 1), bias=False)\n",
              "      (bn1): BatchNorm2d(256, eps=1e-05, momentum=0.1, affine=True, track_running_stats=True)\n",
              "      (conv2): Conv2d(256, 256, kernel_size=(3, 3), stride=(1, 1), padding=(1, 1), bias=False)\n",
              "      (bn2): BatchNorm2d(256, eps=1e-05, momentum=0.1, affine=True, track_running_stats=True)\n",
              "      (conv3): Conv2d(256, 1024, kernel_size=(1, 1), stride=(1, 1), bias=False)\n",
              "      (bn3): BatchNorm2d(1024, eps=1e-05, momentum=0.1, affine=True, track_running_stats=True)\n",
              "      (relu): ReLU(inplace=True)\n",
              "    )\n",
              "    (5): Bottleneck(\n",
              "      (conv1): Conv2d(1024, 256, kernel_size=(1, 1), stride=(1, 1), bias=False)\n",
              "      (bn1): BatchNorm2d(256, eps=1e-05, momentum=0.1, affine=True, track_running_stats=True)\n",
              "      (conv2): Conv2d(256, 256, kernel_size=(3, 3), stride=(1, 1), padding=(1, 1), bias=False)\n",
              "      (bn2): BatchNorm2d(256, eps=1e-05, momentum=0.1, affine=True, track_running_stats=True)\n",
              "      (conv3): Conv2d(256, 1024, kernel_size=(1, 1), stride=(1, 1), bias=False)\n",
              "      (bn3): BatchNorm2d(1024, eps=1e-05, momentum=0.1, affine=True, track_running_stats=True)\n",
              "      (relu): ReLU(inplace=True)\n",
              "    )\n",
              "  )\n",
              "  (layer4): Sequential(\n",
              "    (0): Bottleneck(\n",
              "      (conv1): Conv2d(1024, 512, kernel_size=(1, 1), stride=(1, 1), bias=False)\n",
              "      (bn1): BatchNorm2d(512, eps=1e-05, momentum=0.1, affine=True, track_running_stats=True)\n",
              "      (conv2): Conv2d(512, 512, kernel_size=(3, 3), stride=(2, 2), padding=(1, 1), bias=False)\n",
              "      (bn2): BatchNorm2d(512, eps=1e-05, momentum=0.1, affine=True, track_running_stats=True)\n",
              "      (conv3): Conv2d(512, 2048, kernel_size=(1, 1), stride=(1, 1), bias=False)\n",
              "      (bn3): BatchNorm2d(2048, eps=1e-05, momentum=0.1, affine=True, track_running_stats=True)\n",
              "      (relu): ReLU(inplace=True)\n",
              "      (downsample): Sequential(\n",
              "        (0): Conv2d(1024, 2048, kernel_size=(1, 1), stride=(2, 2), bias=False)\n",
              "        (1): BatchNorm2d(2048, eps=1e-05, momentum=0.1, affine=True, track_running_stats=True)\n",
              "      )\n",
              "    )\n",
              "    (1): Bottleneck(\n",
              "      (conv1): Conv2d(2048, 512, kernel_size=(1, 1), stride=(1, 1), bias=False)\n",
              "      (bn1): BatchNorm2d(512, eps=1e-05, momentum=0.1, affine=True, track_running_stats=True)\n",
              "      (conv2): Conv2d(512, 512, kernel_size=(3, 3), stride=(1, 1), padding=(1, 1), bias=False)\n",
              "      (bn2): BatchNorm2d(512, eps=1e-05, momentum=0.1, affine=True, track_running_stats=True)\n",
              "      (conv3): Conv2d(512, 2048, kernel_size=(1, 1), stride=(1, 1), bias=False)\n",
              "      (bn3): BatchNorm2d(2048, eps=1e-05, momentum=0.1, affine=True, track_running_stats=True)\n",
              "      (relu): ReLU(inplace=True)\n",
              "    )\n",
              "    (2): Bottleneck(\n",
              "      (conv1): Conv2d(2048, 512, kernel_size=(1, 1), stride=(1, 1), bias=False)\n",
              "      (bn1): BatchNorm2d(512, eps=1e-05, momentum=0.1, affine=True, track_running_stats=True)\n",
              "      (conv2): Conv2d(512, 512, kernel_size=(3, 3), stride=(1, 1), padding=(1, 1), bias=False)\n",
              "      (bn2): BatchNorm2d(512, eps=1e-05, momentum=0.1, affine=True, track_running_stats=True)\n",
              "      (conv3): Conv2d(512, 2048, kernel_size=(1, 1), stride=(1, 1), bias=False)\n",
              "      (bn3): BatchNorm2d(2048, eps=1e-05, momentum=0.1, affine=True, track_running_stats=True)\n",
              "      (relu): ReLU(inplace=True)\n",
              "    )\n",
              "  )\n",
              "  (avgpool): AdaptiveAvgPool2d(output_size=(1, 1))\n",
              "  (fc): Linear(in_features=2048, out_features=1000, bias=True)\n",
              ")"
            ]
          },
          "metadata": {},
          "execution_count": 27
        }
      ]
    },
    {
      "cell_type": "code",
      "source": [
        "optimizer = optim.AdamW(resnet50.parameters())\n",
        "train_loss_log, train_acc_log, val_loss_log, val_acc_log = train(resnet50, optimizer, 12,\n",
        "                                                                 train_dataloader_resize,\n",
        "                                                                 val_dataloader_resize)"
      ],
      "metadata": {
        "colab": {
          "base_uri": "https://localhost:8080/"
        },
        "id": "OVKxXzKiPwEa",
        "outputId": "eb7b7439-58ab-466d-e89b-0d23441a50ee"
      },
      "id": "OVKxXzKiPwEa",
      "execution_count": null,
      "outputs": [
        {
          "output_type": "stream",
          "name": "stdout",
          "text": [
            "Epoch 0\n",
            " train loss: 2.7612687150637307, train acc: 0.6430555582046509\n",
            " val loss: 41.12117936724658, val acc: 0.09615384615384616\n",
            "\n",
            "Epoch 1\n",
            " train loss: 0.3707270208332274, train acc: 0.8541666666666666\n",
            " val loss: 0.460368182237569, val acc: 0.9038461538461539\n",
            "\n",
            "Epoch 2\n",
            " train loss: 0.33746325804127586, train acc: 0.8597222235467699\n",
            " val loss: 1.1692677672522573, val acc: 0.22115384615384615\n",
            "\n",
            "Epoch 3\n",
            " train loss: 0.30362391223510105, train acc: 0.8819444444444444\n",
            " val loss: 0.543586754208753, val acc: 0.7115384615384616\n",
            "\n",
            "Epoch 4\n",
            " train loss: 0.2278082991639773, train acc: 0.8923611111111112\n",
            " val loss: 0.4835049327845739, val acc: 0.8173076923076923\n",
            "\n",
            "Epoch 5\n",
            " train loss: 0.32992736001809436, train acc: 0.8687500026490953\n",
            " val loss: 0.9507884514521237, val acc: 0.8653846153846154\n",
            "\n",
            "Epoch 6\n",
            " train loss: 0.3393343538045883, train acc: 0.877083334657881\n",
            " val loss: 0.9707233373899651, val acc: 0.8942307692307693\n",
            "\n",
            "Epoch 7\n",
            " train loss: 0.3827052017052968, train acc: 0.8548611137602065\n",
            " val loss: 1.368227181614332, val acc: 0.5865384615384616\n",
            "\n",
            "Epoch 8\n",
            " train loss: 0.3598844673898485, train acc: 0.8805555568801032\n",
            " val loss: 0.7489255555287505, val acc: 0.6538461538461539\n",
            "\n",
            "Epoch 9\n",
            " train loss: 0.29872918294535744, train acc: 0.8562500013245476\n",
            " val loss: 0.4079885004410663, val acc: 0.8173076923076923\n",
            "\n",
            "Epoch 10\n",
            " train loss: 0.30199678656127715, train acc: 0.8875000013245476\n",
            " val loss: 0.42898917641454876, val acc: 0.8269230769230769\n",
            "\n",
            "Epoch 11\n",
            " train loss: 0.22084975490967432, train acc: 0.9097222222222222\n",
            " val loss: 0.421952455086844, val acc: 0.9134615384615384\n",
            "\n"
          ]
        }
      ]
    },
    {
      "cell_type": "code",
      "source": [
        "epoch_num = 12\n",
        "batch_size = 32\n",
        "epoch_log_num = int(np.ceil(len(train_loss_log) / epoch_num))\n",
        "train_loss = [0 for i in range(epoch_num)]\n",
        "train_acc = [0 for i in range(epoch_num)]\n",
        "\n",
        "for i in range(epoch_num):\n",
        "    train_loss[i] = np.mean(train_loss_log[i * epoch_log_num: (i + 1) * epoch_log_num])\n",
        "    train_acc[i] = np.mean(train_acc_log[i * epoch_log_num: (i + 1) * epoch_log_num])\n",
        "\n",
        "print(len(train_loss_log), len(train_loss), len(train_acc))"
      ],
      "metadata": {
        "colab": {
          "base_uri": "https://localhost:8080/"
        },
        "id": "8iHh-OxF76FU",
        "outputId": "684d62d8-9912-4187-a244-f1e9d7610eda"
      },
      "id": "8iHh-OxF76FU",
      "execution_count": null,
      "outputs": [
        {
          "output_type": "stream",
          "name": "stdout",
          "text": [
            "108 12 12\n"
          ]
        }
      ]
    },
    {
      "cell_type": "code",
      "source": [
        "draw_model_plot(train_acc, val_acc_log, train_loss, val_loss_log)"
      ],
      "metadata": {
        "colab": {
          "base_uri": "https://localhost:8080/",
          "height": 927
        },
        "id": "dGzBVLB776Hq",
        "outputId": "714d23af-8b80-4c55-b3df-8588c5c6abc3"
      },
      "id": "dGzBVLB776Hq",
      "execution_count": null,
      "outputs": [
        {
          "output_type": "display_data",
          "data": {
            "text/plain": [
              "<Figure size 640x480 with 1 Axes>"
            ],
            "image/png": "[encoded data removed]"
          },
          "metadata": {}
        },
        {
          "output_type": "display_data",
          "data": {
            "text/plain": [
              "<Figure size 640x480 with 1 Axes>"
            ],
            "image/png": "[encoded data removed]"
          },
          "metadata": {}
        }
      ]
    },
    {
      "cell_type": "code",
      "source": [
        "test_loss, test_acc = test(resnet50, test_dataloader_resize)\n",
        "test_loss, test_acc"
      ],
      "metadata": {
        "colab": {
          "base_uri": "https://localhost:8080/"
        },
        "id": "OYob8QZ9ZOHC",
        "outputId": "4c306ae3-9c5d-4f79-da1d-2121c98ea42e"
      },
      "id": "OYob8QZ9ZOHC",
      "execution_count": null,
      "outputs": [
        {
          "output_type": "execute_result",
          "data": {
            "text/plain": [
              "(2.2020802387018663, 0.3096120583148011)"
            ]
          },
          "metadata": {},
          "execution_count": 31
        }
      ]
    },
    {
      "cell_type": "code",
      "source": [
        "from sklearn.metrics import classification_report\n",
        "\n",
        "preds = make_preds(resnet50, test_dataloader_resize)\n",
        "\n",
        "labels = []\n",
        "for _, label in test_dataloader_resize:\n",
        "    labels.append(label)\n",
        "labels = np.array(labels)\n",
        "\n",
        "print('Test dataset')\n",
        "print(classification_report(preds, labels))\n",
        "\n",
        "preds = make_preds(resnet50, dataloader_resize)\n",
        "\n",
        "print(preds)\n",
        "\n",
        "labels = []\n",
        "for _, label in dataloader_resize:\n",
        "    labels.append(label)\n",
        "labels = np.array(labels)\n",
        "\n",
        "print('All dataset')\n",
        "print(classification_report(preds, labels))"
      ],
      "metadata": {
        "colab": {
          "base_uri": "https://localhost:8080/"
        },
        "id": "tOtMbyM0Zfg4",
        "outputId": "04d0dcd1-9dbe-4805-d65f-3553534c87f8"
      },
      "id": "tOtMbyM0Zfg4",
      "execution_count": null,
      "outputs": [
        {
          "output_type": "stream",
          "name": "stdout",
          "text": [
            "Test dataset\n",
            "              precision    recall  f1-score   support\n",
            "\n",
            "           0       0.31      1.00      0.47      1252\n",
            "           1       1.00      0.00      0.00      2795\n",
            "\n",
            "    accuracy                           0.31      4047\n",
            "   macro avg       0.65      0.50      0.24      4047\n",
            "weighted avg       0.79      0.31      0.15      4047\n",
            "\n",
            "[1 1 1 ... 1 1 1]\n",
            "All dataset\n",
            "              precision    recall  f1-score   support\n",
            "\n",
            "           0       0.31      0.99      0.47      1261\n",
            "           1       0.97      0.08      0.15      3150\n",
            "           2       0.00      0.00      0.00         0\n",
            "\n",
            "    accuracy                           0.34      4411\n",
            "   macro avg       0.43      0.36      0.21      4411\n",
            "weighted avg       0.78      0.34      0.24      4411\n",
            "\n"
          ]
        },
        {
          "output_type": "stream",
          "name": "stderr",
          "text": [
            "/usr/local/lib/python3.10/dist-packages/sklearn/metrics/_classification.py:1344: UndefinedMetricWarning: Recall and F-score are ill-defined and being set to 0.0 in labels with no true samples. Use `zero_division` parameter to control this behavior.\n",
            "  _warn_prf(average, modifier, msg_start, len(result))\n",
            "/usr/local/lib/python3.10/dist-packages/sklearn/metrics/_classification.py:1344: UndefinedMetricWarning: Recall and F-score are ill-defined and being set to 0.0 in labels with no true samples. Use `zero_division` parameter to control this behavior.\n",
            "  _warn_prf(average, modifier, msg_start, len(result))\n",
            "/usr/local/lib/python3.10/dist-packages/sklearn/metrics/_classification.py:1344: UndefinedMetricWarning: Recall and F-score are ill-defined and being set to 0.0 in labels with no true samples. Use `zero_division` parameter to control this behavior.\n",
            "  _warn_prf(average, modifier, msg_start, len(result))\n"
          ]
        }
      ]
    },
    {
      "cell_type": "code",
      "source": [
        "print(len(preds))"
      ],
      "metadata": {
        "colab": {
          "base_uri": "https://localhost:8080/"
        },
        "id": "cyIkxfPcIC3K",
        "outputId": "da865159-49fe-404c-f3cd-cbfc43811dcd"
      },
      "id": "cyIkxfPcIC3K",
      "execution_count": null,
      "outputs": [
        {
          "output_type": "stream",
          "name": "stdout",
          "text": [
            "4411\n"
          ]
        }
      ]
    },
    {
      "cell_type": "code",
      "source": [
        "torch.save(resnet50.state_dict(), 'resnet50_resize.pth')"
      ],
      "metadata": {
        "id": "pMckGNgWdF18"
      },
      "id": "pMckGNgWdF18",
      "execution_count": null,
      "outputs": []
    }
  ],
  "metadata": {
    "kernelspec": {
      "display_name": "Python 3",
      "name": "python3"
    },
    "language_info": {
      "codemirror_mode": {
        "name": "ipython",
        "version": 3
      },
      "file_extension": ".py",
      "mimetype": "text/x-python",
      "name": "python",
      "nbconvert_exporter": "python",
      "pygments_lexer": "ipython3",
      "version": "3.11.8"
    },
    "colab": {
      "provenance": [],
      "gpuType": "T4",
      "collapsed_sections": [
        "3266e2a4",
        "AIqvZD-UO48j"
      ]
    },
    "accelerator": "GPU"
  },
  "nbformat": 4,
  "nbformat_minor": 5
}