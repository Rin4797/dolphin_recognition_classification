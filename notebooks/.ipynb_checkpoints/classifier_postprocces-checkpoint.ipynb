{
 "cells": [
  {
   "cell_type": "code",
   "execution_count": 1,
   "metadata": {},
   "outputs": [],
   "source": [
    "import pandas as pd\n",
    "from tqdm import tqdm\n",
    "import numpy as np\n",
    "import matplotlib.pyplot as plt\n",
    "import cv2"
   ]
  },
  {
   "cell_type": "code",
   "execution_count": 14,
   "metadata": {},
   "outputs": [],
   "source": [
    "from glob import glob\n",
    "f_names = {}\n",
    "for filename in glob('../dataset/data/**/*.JPG', recursive=True):  # data содержит папки D850-Vol1 и тд\n",
    "    f_names[filename.split('/')[-1]] = {'path': filename} # \\\\ -> /\n",
    "\n",
    "\n",
    "markup_updated = pd.read_json('../artifacts/markup_updated.json').T.to_dict()\n",
    "\n",
    "areas = []\n",
    "for f in markup_updated:\n",
    "    for m in markup_updated[f]['coco']:\n",
    "        areas.append(m[-1] * m[-2])"
   ]
  },
  {
   "cell_type": "code",
   "execution_count": 15,
   "metadata": {},
   "outputs": [],
   "source": [
    "import sys\n",
    "sys.path.append('../')\n",
    "\n",
    "import joblib\n",
    "\n",
    "sets_info = joblib.load('../artifacts/sets_info_v3.joblib')\n",
    "save_path = 'preds_all'\n",
    "results = joblib.load('../artifacts/res_8s_slicing_0.45.joblib')\n",
    "\n",
    "fname2index = {j:i for i,j in dict(enumerate(f_names.keys())).items()}\n",
    "index2fname = {j:i for i,j in fname2index.items()}"
   ]
  },
  {
   "cell_type": "code",
   "execution_count": 17,
   "metadata": {},
   "outputs": [
    {
     "name": "stdout",
     "output_type": "stream",
     "text": [
      "TP 297\n",
      "recall 0.871\n",
      "precision 0.616\n",
      "f_score 0.722\n"
     ]
    }
   ],
   "source": [
    "sys.path.append('../utils')\n",
    "from metrics import calc_tp_fp_fn, get_true_boxes_format, get_predicted_boxes_format, print_main_metrics\n",
    "\n",
    "confidence_threshold = 0.45\n",
    "min_area = np.quantile(areas, 0.02)\n",
    "max_area=np.quantile(areas, 0.98)\n",
    "score_threshold = 0.8265\n",
    "iou_threshold=0.2\n",
    "\n",
    "detections = get_predicted_boxes_format({i: results[i] for i in results}, fname2index, min_area=min_area, max_area=max_area)\n",
    "detections = [i for i in detections if i[2] > score_threshold]\n",
    "\n",
    "ground_truths = get_true_boxes_format({i: markup_updated[i] for i in markup_updated}, fname2index)\n",
    "\n",
    "tp_list, fp_list, fn = calc_tp_fp_fn(ground_truths, detections, iou_threshold)\n",
    "\n",
    "\n",
    "print_main_metrics(*calc_tp_fp_fn(ground_truths, [i for i in detections if i[2] > score_threshold], iou_threshold))"
   ]
  },
  {
   "cell_type": "code",
   "execution_count": 18,
   "metadata": {},
   "outputs": [
    {
     "name": "stderr",
     "output_type": "stream",
     "text": [
      "100%|█████████████████████████████████████████████████████████████████████████████████████████████████████████████████████████████████████████████████████████████████████| 482/482 [02:31<00:00,  3.18it/s]\n"
     ]
    }
   ],
   "source": [
    "from random import random\n",
    "\n",
    "\n",
    "def classify_crop(crop_img, model=None):\n",
    "    return random()\n",
    "\n",
    "\n",
    "detections_after_classifier = []\n",
    "\n",
    "for detection in tqdm(detections):\n",
    "\n",
    "    img = cv2.imread(f_names[index2fname[detection[0]]]['path'])\n",
    "    x_min, y_min, x_max, y_max = [int(i) for i in detection[3:]]\n",
    "\n",
    "    crop_img = img[y_min:y_max, x_min:x_max]\n",
    "    \n",
    "    \n",
    "    # Вызываем классификатор\n",
    "    if classify_crop(crop_img=crop_img) > 0.5:\n",
    "        detections_after_classifier.append(detection)"
   ]
  },
  {
   "cell_type": "code",
   "execution_count": 21,
   "metadata": {},
   "outputs": [
    {
     "name": "stdout",
     "output_type": "stream",
     "text": [
      "TP 155\n",
      "recall 0.455\n",
      "precision 0.628\n",
      "f_score 0.527\n"
     ]
    }
   ],
   "source": [
    "print_main_metrics(*calc_tp_fp_fn(ground_truths, detections_after_classifier, iou_threshold))"
   ]
  },
  {
   "cell_type": "code",
   "execution_count": 47,
   "metadata": {},
   "outputs": [],
   "source": [
    "from torchvision import transforms\n",
    "from PIL import Image"
   ]
  },
  {
   "cell_type": "code",
   "execution_count": 32,
   "metadata": {},
   "outputs": [],
   "source": [
    "data_transform_resize = transforms.Compose([\n",
    "    transforms.Resize(size=(224, 224)),\n",
    "    transforms.ToTensor()\n",
    "])\n",
    "\n",
    "class ResNetPad():\n",
    "    def __call__(self, image, shape=(224, 224)):\n",
    "        y_, x_ = shape\n",
    "        y, x = image.size[1], image.size[0]\n",
    "        y_pad = (y_-y)\n",
    "        x_pad = (x_-x)\n",
    "        return np.pad(image, ((y_pad//2, y_pad//2 + y_pad%2),\n",
    "                         (x_pad//2, x_pad//2 + x_pad%2),\n",
    "                         (0, 0)),\n",
    "                      mode = 'constant')\n",
    "\n",
    "data_transform_padding = transforms.Compose([\n",
    "    ResNetPad(),\n",
    "    transforms.ToTensor()\n",
    "])"
   ]
  },
  {
   "cell_type": "code",
   "execution_count": 73,
   "metadata": {},
   "outputs": [
    {
     "name": "stderr",
     "output_type": "stream",
     "text": [
      "  0%|                                                                                                                                                                               | 0/482 [00:00<?, ?it/s]\n"
     ]
    },
    {
     "data": {
      "image/png": "[encoded data removed]",
      "text/plain": [
       "<Figure size 640x480 with 1 Axes>"
      ]
     },
     "metadata": {},
     "output_type": "display_data"
    }
   ],
   "source": [
    "for detection in tqdm(detections):\n",
    "\n",
    "    img = cv2.imread(f_names[index2fname[detection[0]]]['path'])\n",
    "    x_min, y_min, x_max, y_max = [int(i) for i in detection[3:]]\n",
    "\n",
    "    crop_img = img[y_min:y_max, x_min:x_max]\n",
    "    \n",
    "    plt.imshow(crop_img[:, :, [2, 1, 0]])\n",
    "    \n",
    "    im = Image.fromarray(np.uint8(crop_img[:, :, [2, 1, 0]]))\n",
    "    \n",
    "    #plt.imshow(data_transform_resize(im).numpy().transpose([1, 2, 0]))\n",
    "\n",
    "    break"
   ]
  },
  {
   "cell_type": "code",
   "execution_count": 37,
   "metadata": {},
   "outputs": [
    {
     "data": {
      "text/plain": [
       "<All keys matched successfully>"
      ]
     },
     "execution_count": 37,
     "metadata": {},
     "output_type": "execute_result"
    }
   ],
   "source": [
    "resnet50_padding = torchvision.models.resnet50(weights=torchvision.models.ResNet50_Weights)\n",
    "resnet50_resize = torchvision.models.resnet50(weights=torchvision.models.ResNet50_Weights)\n",
    "\n",
    "resnet50_padding_dict = torch.load('./resnet50_padding.pth', map_location=torch.device('cpu'))\n",
    "resnet50_resize_dict = torch.load('./resnet50_resize.pth', map_location=torch.device('cpu'))\n",
    "\n",
    "resnet50_padding.load_state_dict(resnet50_padding_dict)\n",
    "resnet50_resize.load_state_dict(resnet50_resize_dict)"
   ]
  },
  {
   "cell_type": "code",
   "execution_count": 88,
   "metadata": {},
   "outputs": [],
   "source": [
    "def classify_crop(crop_img, model=None, transform=None):\n",
    "    im = Image.fromarray(np.uint8(crop_img[:, :, [2, 1, 0]]))\n",
    "    transformed_image = transform(im)\n",
    "    transformed_image = transformed_image.unsqueeze(0)\n",
    "    outputs = model(transformed_image)\n",
    "    prediction = torch.argmax(outputs, dim=1)\n",
    "    return prediction.item()"
   ]
  },
  {
   "cell_type": "markdown",
   "metadata": {},
   "source": [
    "## Resize"
   ]
  },
  {
   "cell_type": "code",
   "execution_count": 86,
   "metadata": {},
   "outputs": [
    {
     "name": "stderr",
     "output_type": "stream",
     "text": [
      "100%|█████████████████████████████████████████████████████████████████████████████████████████████████████████████████████████████████████████████████████████████████████| 482/482 [02:56<00:00,  2.74it/s]\n"
     ]
    }
   ],
   "source": [
    "detections_after_classifier = []\n",
    "\n",
    "for detection in tqdm(detections):\n",
    "\n",
    "    img = cv2.imread(f_names[index2fname[detection[0]]]['path'])\n",
    "    x_min, y_min, x_max, y_max = [int(i) for i in detection[3:]]\n",
    "\n",
    "    crop_img = img[y_min:y_max, x_min:x_max]\n",
    "    \n",
    "    \n",
    "    # Вызываем классификатор\n",
    "    if classify_crop(crop_img=crop_img, model=resnet50_resize, \n",
    "                    transform=data_transform_resize) > 0.5:\n",
    "        detections_after_classifier.append(detection)"
   ]
  },
  {
   "cell_type": "code",
   "execution_count": 87,
   "metadata": {},
   "outputs": [
    {
     "name": "stdout",
     "output_type": "stream",
     "text": [
      "TP 297\n",
      "recall 0.871\n",
      "precision 0.616\n",
      "f_score 0.722\n"
     ]
    }
   ],
   "source": [
    "print_main_metrics(*calc_tp_fp_fn(ground_truths, detections_after_classifier, iou_threshold))"
   ]
  },
  {
   "cell_type": "markdown",
   "metadata": {},
   "source": [
    "## Padding"
   ]
  },
  {
   "cell_type": "code",
   "execution_count": 91,
   "metadata": {},
   "outputs": [
    {
     "name": "stderr",
     "output_type": "stream",
     "text": [
      "100%|█████████████████████████████████████████████████████████████████████████████████████████████████████████████████████████████████████████████████████████████████████| 482/482 [03:00<00:00,  2.68it/s]\n"
     ]
    }
   ],
   "source": [
    "detections_after_classifier = []\n",
    "\n",
    "for detection in tqdm(detections):\n",
    "\n",
    "    img = cv2.imread(f_names[index2fname[detection[0]]]['path'])\n",
    "    x_min, y_min, x_max, y_max = [int(i) for i in detection[3:]]\n",
    "\n",
    "    crop_img = img[y_min:y_max, x_min:x_max]\n",
    "    \n",
    "    \n",
    "    # Вызываем классификатор\n",
    "    if 1 - classify_crop(crop_img=crop_img, model=resnet50_padding, #what the hell?\n",
    "                     transform=data_transform_padding) > 0.5:\n",
    "        detections_after_classifier.append(detection)"
   ]
  },
  {
   "cell_type": "code",
   "execution_count": 92,
   "metadata": {},
   "outputs": [
    {
     "name": "stdout",
     "output_type": "stream",
     "text": [
      "TP 288\n",
      "recall 0.845\n",
      "precision 0.613\n",
      "f_score 0.71\n"
     ]
    }
   ],
   "source": [
    "print_main_metrics(*calc_tp_fp_fn(ground_truths, detections_after_classifier, iou_threshold))"
   ]
  },
  {
   "cell_type": "code",
   "execution_count": null,
   "metadata": {},
   "outputs": [],
   "source": []
  }
 ],
 "metadata": {
  "kernelspec": {
   "display_name": "Python 3 (ipykernel)",
   "language": "python",
   "name": "python3"
  },
  "language_info": {
   "codemirror_mode": {
    "name": "ipython",
    "version": 3
   },
   "file_extension": ".py",
   "mimetype": "text/x-python",
   "name": "python",
   "nbconvert_exporter": "python",
   "pygments_lexer": "ipython3",
   "version": "3.11.8"
  }
 },
 "nbformat": 4,
 "nbformat_minor": 2
}
