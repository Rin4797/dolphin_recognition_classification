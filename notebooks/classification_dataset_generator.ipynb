{
 "cells": [
  {
   "cell_type": "code",
   "execution_count": 1,
   "metadata": {},
   "outputs": [],
   "source": [
    "import pandas as pd\n",
    "from tqdm import tqdm\n",
    "import numpy as np\n",
    "import matplotlib.pyplot as plt\n",
    "import cv2"
   ]
  },
  {
   "cell_type": "code",
   "execution_count": 2,
   "metadata": {},
   "outputs": [],
   "source": [
    "from glob import glob\n",
    "f_names = {}\n",
    "for filename in glob('../data/**/*.JPG', recursive=True):\n",
    "    f_names[filename.split('/')[-1]] = {'path': filename}\n",
    "\n",
    "markup_updated = pd.read_json('../artifacts/markup_updated.json').T.to_dict()\n",
    "\n",
    "areas = []\n",
    "rels = []\n",
    "for f in markup_updated:\n",
    "    for m in markup_updated[f]['coco']:\n",
    "        areas.append(m[-1] * m[-2])\n",
    "        if m[-1] >= m[-2]:\n",
    "            rels.append(m[-1]/m[-2])\n",
    "        else:\n",
    "            rels.append(m[-2]/m[-1])"
   ]
  },
  {
   "cell_type": "code",
   "execution_count": 3,
   "metadata": {},
   "outputs": [
    {
     "name": "stderr",
     "output_type": "stream",
     "text": [
      "/opt/homebrew/lib/python3.11/site-packages/torchvision/io/image.py:13: UserWarning: Failed to load image Python extension: 'dlopen(/opt/homebrew/lib/python3.11/site-packages/torchvision/image.so, 0x0006): Symbol not found: __ZN3c1017RegisterOperatorsD1Ev\n",
      "  Referenced from: <9DBE5D5C-AC87-30CA-96DA-F5BC116EDA2B> /opt/homebrew/lib/python3.11/site-packages/torchvision/image.so\n",
      "  Expected in:     <44DEDA27-4DE9-3D4A-8EDE-5AA72081319F> /opt/homebrew/lib/python3.11/site-packages/torch/lib/libtorch_cpu.dylib'If you don't plan on using image functionality from `torchvision.io`, you can ignore this warning. Otherwise, there might be something wrong with your environment. Did you have `libjpeg` or `libpng` installed before building `torchvision` from source?\n",
      "  warn(\n"
     ]
    }
   ],
   "source": [
    "# инферим обученную модель на всех картинках\n",
    "import sys\n",
    "sys.path.append('../utils/')\n",
    "from metrics import calc_tp_fp_fn, print_main_metrics, get_true_boxes_format, get_predicted_boxes_format\n",
    "import joblib\n",
    "\n",
    "sets_info = joblib.load('../artifacts/sets_info_v3.joblib')\n",
    "save_path = 'preds_all'\n",
    "results = joblib.load('../artifacts/res_8s_slicing_0.45.joblib')\n",
    "\n",
    "fname2index = {j:i for i,j in dict(enumerate(f_names.keys())).items()}\n",
    "index2fname = {j:i for i,j in fname2index.items()}"
   ]
  },
  {
   "cell_type": "code",
   "execution_count": 32,
   "metadata": {},
   "outputs": [
    {
     "data": {
      "text/plain": [
       "[[423, 0, 1, 692, 810, 764, 852],\n",
       " [421, 0, 1, 3751, 218, 3799, 285],\n",
       " [284, 0, 1, 6705, 276, 6765, 361],\n",
       " [2281, 0, 1, 6470, 2920, 6510, 2954],\n",
       " [2281, 0, 1, 5466, 3137, 5489, 3160]]"
      ]
     },
     "execution_count": 32,
     "metadata": {},
     "output_type": "execute_result"
    }
   ],
   "source": [
    "iou_threshold=0.0\n",
    "\n",
    "detections = get_predicted_boxes_format({i: results[i] for i in results}, fname2index, \n",
    "                                        min_area=np.quantile(areas, 0.02), max_area=np.quantile(areas, 0.98))\n",
    "detections = [i for i in detections if i[2] > 0.45]\n",
    "ground_truths = get_true_boxes_format({i: markup_updated[i] for i in markup_updated}, fname2index)\n",
    "\n",
    "tp_list, fp_list, fn = calc_tp_fp_fn(ground_truths, detections, iou_threshold)\n",
    "\n",
    "ground_truths[:5]"
   ]
  },
  {
   "cell_type": "code",
   "execution_count": 33,
   "metadata": {},
   "outputs": [
    {
     "name": "stdout",
     "output_type": "stream",
     "text": [
      "314 4097 27\n"
     ]
    }
   ],
   "source": [
    "print(len(tp_list), len(fp_list), fn)"
   ]
  },
  {
   "cell_type": "code",
   "execution_count": 34,
   "metadata": {},
   "outputs": [],
   "source": [
    "import joblib\n",
    "\n",
    "sets_info = joblib.load('../artifacts/sets_info_v3.joblib')"
   ]
  },
  {
   "cell_type": "code",
   "execution_count": 35,
   "metadata": {},
   "outputs": [],
   "source": [
    "train_names = set(sets_info['train']['names'])\n",
    "val_names = set(sets_info['val']['names'])"
   ]
  },
  {
   "cell_type": "code",
   "execution_count": 36,
   "metadata": {},
   "outputs": [],
   "source": [
    "train_tp_list = []\n",
    "val_tp_list = []\n",
    "test_tp_list = []\n",
    "for bbox in tp_list:\n",
    "    name = index2fname[bbox[0]]\n",
    "    if name in train_names:\n",
    "        train_tp_list.append(bbox)\n",
    "    elif name in val_names:\n",
    "        val_tp_list.append(bbox)\n",
    "    else:\n",
    "        test_tp_list.append(bbox)\n",
    "\n",
    "train_fp_list = []\n",
    "val_fp_list = []\n",
    "test_fp_list = []\n",
    "for bbox in fp_list:\n",
    "    name = index2fname[bbox[0]]\n",
    "    if name in train_names:\n",
    "        train_fp_list.append(bbox)\n",
    "    elif name in val_names:\n",
    "        val_fp_list.append(bbox)\n",
    "    else:\n",
    "        test_fp_list.append(bbox)"
   ]
  },
  {
   "cell_type": "code",
   "execution_count": 37,
   "metadata": {},
   "outputs": [
    {
     "name": "stdout",
     "output_type": "stream",
     "text": [
      "Train dataset: 261\n",
      "Train dolphins: 220\n",
      "Train not dolphins: 41\n",
      "\n",
      "Val dataset: 104\n",
      "Val dolphins: 94\n",
      "Val not dolphins: 10\n",
      "\n",
      "Test dataset: 4046\n",
      "Test dolphins: 0\n",
      "Test not dolphins: 4046\n"
     ]
    }
   ],
   "source": [
    "print('Train dataset:', len(train_tp_list) + len(train_fp_list))\n",
    "print('Train dolphins:', len(train_tp_list))\n",
    "print('Train not dolphins:', len(train_fp_list))\n",
    "print()\n",
    "print('Val dataset:', len(val_tp_list) + len(val_fp_list))\n",
    "print('Val dolphins:', len(val_tp_list))\n",
    "print('Val not dolphins:', len(val_fp_list))\n",
    "print()\n",
    "print('Test dataset:', len(test_tp_list) + len(test_fp_list))\n",
    "print('Test dolphins:', len(test_tp_list))\n",
    "print('Test not dolphins:', len(test_fp_list))"
   ]
  },
  {
   "cell_type": "markdown",
   "metadata": {},
   "source": [
    "# Выгрузка"
   ]
  },
  {
   "cell_type": "code",
   "execution_count": 5,
   "metadata": {},
   "outputs": [
    {
     "name": "stderr",
     "output_type": "stream",
     "text": [
      "306it [01:36,  3.17it/s]\n",
      "336it [01:48,  3.11it/s]\n"
     ]
    },
    {
     "ename": "KeyboardInterrupt",
     "evalue": "",
     "output_type": "error",
     "traceback": [
      "\u001b[0;31m---------------------------------------------------------------------------\u001b[0m",
      "\u001b[0;31mKeyboardInterrupt\u001b[0m                         Traceback (most recent call last)",
      "Cell \u001b[0;32mIn[5], line 18\u001b[0m\n\u001b[1;32m     15\u001b[0m \u001b[38;5;28;01mfor\u001b[39;00m class_name, bboxes \u001b[38;5;129;01min\u001b[39;00m [(\u001b[38;5;124m'\u001b[39m\u001b[38;5;124m1\u001b[39m\u001b[38;5;124m'\u001b[39m, tp_list), (\u001b[38;5;124m'\u001b[39m\u001b[38;5;124m0\u001b[39m\u001b[38;5;124m'\u001b[39m, fp_list)]:\n\u001b[1;32m     16\u001b[0m     \u001b[38;5;28;01mfor\u001b[39;00m i, obj \u001b[38;5;129;01min\u001b[39;00m tqdm(\u001b[38;5;28menumerate\u001b[39m(bboxes)):\n\u001b[0;32m---> 18\u001b[0m         img \u001b[38;5;241m=\u001b[39m \u001b[43mcv2\u001b[49m\u001b[38;5;241;43m.\u001b[39;49m\u001b[43mimread\u001b[49m\u001b[43m(\u001b[49m\u001b[43mf_names\u001b[49m\u001b[43m[\u001b[49m\u001b[43mindex2fname\u001b[49m\u001b[43m[\u001b[49m\u001b[43mobj\u001b[49m\u001b[43m[\u001b[49m\u001b[38;5;241;43m0\u001b[39;49m\u001b[43m]\u001b[49m\u001b[43m]\u001b[49m\u001b[43m]\u001b[49m\u001b[43m[\u001b[49m\u001b[38;5;124;43m'\u001b[39;49m\u001b[38;5;124;43mpath\u001b[39;49m\u001b[38;5;124;43m'\u001b[39;49m\u001b[43m]\u001b[49m\u001b[43m)\u001b[49m\n\u001b[1;32m     20\u001b[0m         x_min, y_min, x_max, y_max \u001b[38;5;241m=\u001b[39m [\u001b[38;5;28mint\u001b[39m(i) \u001b[38;5;28;01mfor\u001b[39;00m i \u001b[38;5;129;01min\u001b[39;00m obj[\u001b[38;5;241m3\u001b[39m:]]\n\u001b[1;32m     22\u001b[0m         crop_img \u001b[38;5;241m=\u001b[39m img[y_min:y_max, x_min:x_max]\n",
      "\u001b[0;31mKeyboardInterrupt\u001b[0m: "
     ]
    }
   ],
   "source": [
    "import os\n",
    "import shutil\n",
    "from pathlib import Path\n",
    "\n",
    "dataset_name = '../dolphin_postprocces_dataset'\n",
    "\n",
    "shutil.rmtree(dataset_name ,ignore_errors=True)\n",
    "Path(dataset_name).mkdir(parents=True, exist_ok=True)\n",
    "\n",
    "for class_name in ['0', '1']:\n",
    "    Path(os.path.join(dataset_name, class_name)).mkdir(parents=True, exist_ok=True)\n",
    "    \n",
    "\n",
    "# генерация датасета\n",
    "for class_name, bboxes in [('1', tp_list), ('0', fp_list)]:\n",
    "    for i, obj in tqdm(enumerate(bboxes)):\n",
    "        \n",
    "        img = cv2.imread(f_names[index2fname[obj[0]]]['path'])\n",
    "        \n",
    "        x_min, y_min, x_max, y_max = [int(i) for i in obj[3:]]\n",
    "\n",
    "        crop_img = img[y_min:y_max, x_min:x_max]\n",
    "        \n",
    "        cv2.imwrite(os.path.join(dataset_name, class_name, str(i) + '_' +  index2fname[obj[0]]), crop_img)\n",
    "\n",
    "\n",
    "fnamedataset2ind = {}\n",
    "fname2confidence = {}\n",
    "for class_name, bboxes in [('1', tp_list), ('0', fp_list)]:\n",
    "    for i, obj in tqdm(enumerate(bboxes)):\n",
    "        fnamedataset2ind[os.path.join(dataset_name, class_name, str(i) + '_' +  index2fname[obj[0]])] = obj[0]\n",
    "        fname2confidence[os.path.join(dataset_name, class_name, str(i) + '_' +  index2fname[obj[0]])] = obj[2]\n",
    "        \n",
    "ind2fnamedataset = {j:i for i,j in fnamedataset2ind.items()}"
   ]
  },
  {
   "cell_type": "code",
   "execution_count": null,
   "metadata": {},
   "outputs": [],
   "source": [
    "!cp -r ../dolphin_postprocces_dataset ../dolphin_postprocces_dataset_full"
   ]
  },
  {
   "cell_type": "code",
   "execution_count": null,
   "metadata": {},
   "outputs": [],
   "source": [
    "import torch\n",
    "from torch.utils.data import Dataset\n",
    "from torchvision import transforms\n",
    "from PIL import Image\n",
    "\n",
    "\n",
    "img_size = 112\n",
    "size = (img_size, img_size)\n",
    "\n",
    "class DolphinClassificationDataset(Dataset):\n",
    "\n",
    "    def __init__(self, dataset: list, transform=None):\n",
    "        self.img_paths = [i['img_path'] for i in dataset]\n",
    "        self.dataset = dataset\n",
    "        self.transform = transform\n",
    "\n",
    "    def __len__(self):\n",
    "        return len(self.dataset)\n",
    "\n",
    "    def __getitem__(self, idx):\n",
    "\n",
    "        img_name = self.dataset[idx]['img_path']\n",
    "        image = Image.open(img_name)\n",
    "        \n",
    "        \n",
    "        new_size = (img_size, img_size)\n",
    "        new_im = Image.new(\"RGB\", new_size)\n",
    "        box = tuple((n - o) // 2 for n, o in zip(new_size, image.size[:2]))\n",
    "        new_im.paste(image, box)\n",
    "        \n",
    "\n",
    "        # shape = image.size[:2]\n",
    "        label = int(self.dataset[idx]['class'])\n",
    "        # conf = self.dataset[idx]['confidence']\n",
    "\n",
    "        if self.transform:\n",
    "            new_im = self.transform(new_im)\n",
    "\n",
    "        return new_im, label #, conf, shape[0], shape[1]\n",
    "\n",
    "\n",
    "train_transform = transforms.Compose([transforms.ToTensor(),\n",
    "                                      transforms.Resize((img_size, img_size)),\n",
    "                                      transforms.RandomHorizontalFlip(0.5),\n",
    "                                      transforms.RandomVerticalFlip(0.5),\n",
    "                                      transforms.RandomRotation(degrees=30),\n",
    "                                ])\n",
    "\n",
    "val_transform = transforms.Compose([transforms.ToTensor(), transforms.Resize((img_size, img_size))\n",
    "                                ])\n",
    "\n",
    "dataset = []\n",
    "\n",
    "for class_name in os.listdir(dataset_name):\n",
    "    for img_name in os.listdir(os.path.join(dataset_name, class_name)):\n",
    "        dataset.append({'class': class_name,\n",
    "                        'img_path': os.path.join(dataset_name, class_name, img_name),\n",
    "                        'confidence': fname2confidence[os.path.join(dataset_name, class_name, img_name)]})\n",
    "        \n",
    "dataset[:2]"
   ]
  },
  {
   "cell_type": "code",
   "execution_count": null,
   "metadata": {},
   "outputs": [],
   "source": [
    "!mkdir ../dolphin_postprocces_dataset/test\n",
    "!mkdir ../dolphin_postprocces_dataset/train\n",
    "!mkdir ../dolphin_postprocces_dataset/val\n",
    "!mkdir ../dolphin_postprocces_dataset/train/1\n",
    "!mkdir ../dolphin_postprocces_dataset/val/1\n",
    "!mkdir ../dolphin_postprocces_dataset/train/0\n",
    "!mkdir ../dolphin_postprocces_dataset/val/0"
   ]
  },
  {
   "cell_type": "code",
   "execution_count": null,
   "metadata": {},
   "outputs": [],
   "source": [
    "!mv ../dolphin_postprocces_dataset/1 ../dolphin_postprocces_dataset/test/1\n",
    "!mv ../dolphin_postprocces_dataset/0 ../dolphin_postprocces_dataset/test/0"
   ]
  },
  {
   "cell_type": "code",
   "execution_count": null,
   "metadata": {},
   "outputs": [],
   "source": [
    "import os\n",
    "import shutil\n",
    "\n",
    "directories = ['../dolphin_postprocces_dataset/test/1', '../dolphin_postprocces_dataset/test/0']\n",
    "\n",
    "for directory in directories:\n",
    "    for filename in os.listdir(directory):\n",
    "        f = os.path.join(directory, filename)\n",
    "        if os.path.isfile(f):\n",
    "            if f[-12:] in train_names:\n",
    "                shutil.move(f, f.replace('test', 'train'))\n",
    "            elif f[-12:] in val_names:\n",
    "                shutil.move(f, f.replace('test', 'val'))"
   ]
  },
  {
   "cell_type": "code",
   "execution_count": null,
   "metadata": {},
   "outputs": [],
   "source": [
    "print('Train dataset:', len(os.listdir('../dolphin_postprocces_dataset/train/1')) +\n",
    "      len(os.listdir('../dolphin_postprocces_dataset/train/0')))\n",
    "print('Train dolphins:', len(os.listdir('../dolphin_postprocces_dataset/train/1')))\n",
    "print('Train not dolphins:', len(os.listdir('../dolphin_postprocces_dataset/train/0')))\n",
    "print()\n",
    "print('Val dataset:', len(os.listdir('../dolphin_postprocces_dataset/val/1')) +\n",
    "      len(os.listdir('../dolphin_postprocces_dataset/val/0')))\n",
    "print('Val dolphins:', len(os.listdir('../dolphin_postprocces_dataset/val/1')))\n",
    "print('Val not dolphins:', len(os.listdir('../dolphin_postprocces_dataset/val/0')))\n",
    "print()\n",
    "print('Test dataset:', len(os.listdir('../dolphin_postprocces_dataset/test/1')) +\n",
    "      len(os.listdir('../dolphin_postprocces_dataset/test/0')))\n",
    "print('Test dolphins:', len(os.listdir('../dolphin_postprocces_dataset/test/1')))\n",
    "print('Test not dolphins:', len(os.listdir('../dolphin_postprocces_dataset/test/0')))"
   ]
  },
  {
   "cell_type": "code",
   "execution_count": null,
   "metadata": {},
   "outputs": [],
   "source": [
    "print('Full dataset:', len(os.listdir('../dolphin_postprocces_dataset_full/1')) +\n",
    "      len(os.listdir('../dolphin_postprocces_dataset_full/0')))\n",
    "print('Full dolphins:', len(os.listdir('../dolphin_postprocces_dataset_full/1')))\n",
    "print('Full not dolphins:', len(os.listdir('../dolphin_postprocces_dataset_full/0')))\n",
    "print()"
   ]
  },
  {
   "cell_type": "code",
   "execution_count": null,
   "metadata": {},
   "outputs": [],
   "source": [
    "from sklearn.model_selection import train_test_split\n",
    "train, val = train_test_split(dataset, test_size=0.3, random_state=42)\n",
    "\n",
    "train_set = DolphinClassificationDataset(train, train_transform)\n",
    "val_set = DolphinClassificationDataset(val, val_transform)\n",
    "\n",
    "print(len(train_set), len(val_set))\n",
    "\n",
    "batch_size = 64\n",
    "\n",
    "train_dataloader = torch.utils.data.DataLoader(train_set, batch_size=batch_size, shuffle=True, num_workers=0)\n",
    "valid_dataloader = torch.utils.data.DataLoader(val_set, batch_size=batch_size, shuffle=False, num_workers=0)"
   ]
  },
  {
   "cell_type": "code",
   "execution_count": null,
   "metadata": {},
   "outputs": [],
   "source": []
  },
  {
   "cell_type": "code",
   "execution_count": null,
   "metadata": {},
   "outputs": [],
   "source": []
  }
 ],
 "metadata": {
  "kernelspec": {
   "display_name": "Python 3 (ipykernel)",
   "language": "python",
   "name": "python3"
  },
  "language_info": {
   "codemirror_mode": {
    "name": "ipython",
    "version": 3
   },
   "file_extension": ".py",
   "mimetype": "text/x-python",
   "name": "python",
   "nbconvert_exporter": "python",
   "pygments_lexer": "ipython3",
   "version": "3.11.8"
  }
 },
 "nbformat": 4,
 "nbformat_minor": 2
}
